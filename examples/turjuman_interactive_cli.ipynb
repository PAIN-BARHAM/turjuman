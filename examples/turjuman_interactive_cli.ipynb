{
  "cells": [
    {
      "cell_type": "markdown",
      "metadata": {
        "id": "HZPN0IdFGNiE"
      },
      "source": [
        "#TURJUMAN\n",
        "Turjuman is a neural machine translation toolkit. It translates from 20 languages into Modern Standard Arabic (MSA). Turjuman is described in this paper: [**TURJUMAN: A Public Toolkit for Neural Arabic Machine Translation**](https://arxiv.org/abs/2206.03933). Turjuman exploits our [AraT5 model](https://github.com/UBC-NLP/araT5). This endows Turjuman with a powerful ability to decode into Arabic. The toolkit offers the possibility of employing a number of diverse decoding methods, making it suited for acquiring paraphrases for the MSA translations as an added value.\n",
        "\n",
        "---\n",
        "\n",
        "\n",
        "https://github.com/UBC-NLP/turjuman"
      ]
    },
    {
      "cell_type": "markdown",
      "metadata": {
        "id": "tJoHT81iGYzh"
      },
      "source": [
        "##Install requirments"
      ]
    },
    {
      "cell_type": "code",
      "execution_count": 1,
      "metadata": {
        "colab": {
          "base_uri": "https://localhost:8080/"
        },
        "id": "KAztt3c2piuo",
        "outputId": "12dbdd29-47d5-4488-d392-a095de4ec43a"
      },
      "outputs": [
        {
          "name": "stdout",
          "output_type": "stream",
          "text": [
            "\u001b[K     |████████████████████████████████| 1.2 MB 8.4 MB/s \n",
            "\u001b[K     |████████████████████████████████| 4.2 MB 46.1 MB/s \n",
            "\u001b[K     |████████████████████████████████| 90 kB 8.8 MB/s \n",
            "\u001b[K     |████████████████████████████████| 114 kB 51.2 MB/s \n",
            "\u001b[K     |████████████████████████████████| 342 kB 46.7 MB/s \n",
            "\u001b[K     |████████████████████████████████| 1.1 MB 52.7 MB/s \n",
            "\u001b[K     |████████████████████████████████| 84 kB 3.0 MB/s \n",
            "\u001b[K     |████████████████████████████████| 136 kB 53.6 MB/s \n",
            "\u001b[K     |████████████████████████████████| 212 kB 50.2 MB/s \n",
            "\u001b[K     |████████████████████████████████| 127 kB 57.4 MB/s \n",
            "\u001b[K     |████████████████████████████████| 144 kB 54.9 MB/s \n",
            "\u001b[K     |████████████████████████████████| 271 kB 51.5 MB/s \n",
            "\u001b[K     |████████████████████████████████| 94 kB 3.0 MB/s \n",
            "\u001b[K     |████████████████████████████████| 596 kB 53.8 MB/s \n",
            "\u001b[K     |████████████████████████████████| 6.6 MB 55.0 MB/s \n",
            "\u001b[?25h  Building wheel for turjuman (setup.py) ... \u001b[?25l\u001b[?25hdone\n",
            "\u001b[31mERROR: pip's dependency resolver does not currently take into account all the packages that are installed. This behaviour is the source of the following dependency conflicts.\n",
            "datascience 0.10.6 requires folium==0.2.1, but you have folium 0.8.3 which is incompatible.\u001b[0m\n"
          ]
        }
      ],
      "source": [
        "!pip install -U git+https://github.com/UBC-NLP/turjuman.git --q"
      ]
    },
    {
      "cell_type": "markdown",
      "metadata": {
        "id": "EWHjQ1vqGcX7"
      },
      "source": [
        "##Turjuman Interactive Command Line Interface (CLI)\n",
        "- Turjuman interactive cli support only beam search with the following default setting:\n",
        "  - **-s** or **--seq_length**: The maximum sequence length value, *default value is 300*\n",
        "  - **-o** or **--max_outputs**: The maximum of the output tanslations (*default value is 1*)\n",
        "  - **-b** or **--num_beams NUM_BEAMS**: Number of beams (*default value is 1*)\n",
        "  - **-n** or **--no_repeat_ngram_size**: Number of n-gram that doesn't appears twice (*default value is 2*)\n",
        "- Turjuman_interactive command asks you you to input translate your input text. Moreover, you can write q to exsit as shown in the following image.\n",
        "\n",
        "<img src='https://raw.githubusercontent.com/UBC-NLP/turjuman/main/examples/turjuman_interactive.jpg'>"
      ]
    },
    {
      "cell_type": "markdown",
      "metadata": {
        "id": "3VtXR82mGqKW"
      },
      "source": [
        "### (1) Usage and Arguments"
      ]
    },
    {
      "cell_type": "code",
      "execution_count": 2,
      "metadata": {
        "colab": {
          "base_uri": "https://localhost:8080/"
        },
        "id": "nO8QVs9AFJHe",
        "outputId": "805dd28a-303b-43d2-f03e-d0fcfec5a770"
      },
      "outputs": [
        {
          "name": "stdout",
          "output_type": "stream",
          "text": [
            "usage: turjuman_interactive [-h] [-c CACHE_DIR]\n",
            "\n",
            "Turjuman Interactive CLI\n",
            "\n",
            "optional arguments:\n",
            "  -h, --help            show this help message and exit\n",
            "  -c CACHE_DIR, --cache_dir CACHE_DIR\n",
            "                        The cache directory path, default vlaue is\n",
            "                        turjuman_cache directory\n"
          ]
        }
      ],
      "source": [
        "!turjuman_interactive -h"
      ]
    },
    {
      "cell_type": "markdown",
      "metadata": {
        "id": "9-6rMOInKlGa"
      },
      "source": [
        "## (2) Turjuman Interactive"
      ]
    },
    {
      "cell_type": "code",
      "execution_count": 3,
      "metadata": {
        "colab": {
          "base_uri": "https://localhost:8080/"
        },
        "id": "eQd_Ut5UplPg",
        "outputId": "b62636bb-8382-496b-a910-1c8a2429019c"
      },
      "outputs": [
        {
          "name": "stdout",
          "output_type": "stream",
          "text": [
            "2022-05-18 16:51:42 | INFO | turjuman.interactive_cli | Namespace(cache_dir='./turjuman_cache')\n",
            "2022-05-18 16:51:42 | INFO | turjuman.interactive_cli | Loading model from UBC-NLP/turjuman\n",
            "Downloading: 100% 1.85k/1.85k [00:00<00:00, 1.31MB/s]\n",
            "Downloading: 100% 565/565 [00:00<00:00, 453kB/s]\n",
            "Downloading: 100% 2.32M/2.32M [00:00<00:00, 5.38MB/s]\n",
            "Downloading: 100% 1.74k/1.74k [00:00<00:00, 1.07MB/s]\n",
            "Downloading: 100% 565/565 [00:00<00:00, 475kB/s]\n",
            "Downloading: 100% 1.05G/1.05G [00:20<00:00, 56.1MB/s]\n",
            "Type your source text or (q) to STOP: As US reaches one million COVID deaths, how are Americans coping?\n",
            "2022-05-18 16:52:25 | INFO | turjuman.interactive_cli | Using beam search\n",
            "2022-05-18 16:52:29 | INFO | turjuman.interactive_cli | Extract outputs\n",
            "target: وبينما تصل الولايات المتحدة إلى مليون حالة وفاة من فيروس كوفيد-19 ، كيف يتعامل الأمريكيون مع ذلك ؟\n",
            "Type your source text or (q) to STOP: Это список суверенных государств и зависимых территорий в Азии .\n",
            "2022-05-18 16:54:31 | INFO | turjuman.interactive_cli | Using beam search\n",
            "2022-05-18 16:54:34 | INFO | turjuman.interactive_cli | Extract outputs\n",
            "target: هذه قائمة الدول ذات السيادة والأقاليم التابعة في آسيا.\n",
            "Type your source text or (q) to STOP: क्या तुम्हें यकीन है कि वही है ?\n",
            "2022-05-18 16:54:49 | INFO | turjuman.interactive_cli | Using beam search\n",
            "2022-05-18 16:54:51 | INFO | turjuman.interactive_cli | Extract outputs\n",
            "target: هل أنت واثق من ذلك ؟\n",
            "Type your source text or (q) to STOP: q\n"
          ]
        }
      ],
      "source": [
        "!turjuman_interactive"
      ]
    },
    {
      "cell_type": "code",
      "execution_count": null,
      "metadata": {
        "id": "C8hSclpRpq14"
      },
      "outputs": [],
      "source": []
    }
  ],
  "metadata": {
    "colab": {
      "collapsed_sections": [],
      "name": "turjuman_interactive_cli.ipynb",
      "provenance": []
    },
    "kernelspec": {
      "display_name": "Python 3",
      "name": "python3"
    },
    "language_info": {
      "name": "python"
    }
  },
  "nbformat": 4,
  "nbformat_minor": 0
}
