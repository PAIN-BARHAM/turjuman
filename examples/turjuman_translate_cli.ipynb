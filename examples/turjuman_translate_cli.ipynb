{
  "nbformat": 4,
  "nbformat_minor": 0,
  "metadata": {
    "colab": {
      "name": "turjuman_translate_cli.ipynb",
      "provenance": [],
      "collapsed_sections": []
    },
    "kernelspec": {
      "name": "python3",
      "display_name": "Python 3"
    },
    "language_info": {
      "name": "python"
    }
  },
  "cells": [
    {
      "cell_type": "markdown",
      "metadata": {
        "id": "A_kDLcjaRErP"
      },
      "source": [
        "#TURJUMAN\n",
        "TURJUMAN, a neural toolkit for translating from 20 languages into Modern Standard Arabic (MSA). TURJUMAN exploits the recently-introduced text-to-text Transformer [AraT5 model](https://github.com/UBC-NLP/araT5) (Nagoudi et al., 2022), endowing it with a powerful ability to decode into Arabic. The toolkit offers the possibility of employing a number of diverse decoding methods, making it suited for acquiring paraphrases for the MSA translations as an added value. To train TURJUMAN, we sample from publicly available parallel data employing a simple semantic similarity method to ensure data quality.\n",
        "\n",
        "---\n",
        "\n",
        "\n",
        "https://github.com/UBC-NLP/turjuman"
      ]
    },
    {
      "cell_type": "markdown",
      "metadata": {
        "id": "K4wxJ06TSRad"
      },
      "source": [
        "##Install requirments"
      ]
    },
    {
      "cell_type": "code",
      "metadata": {
        "id": "YH2WCTBYSasB",
        "outputId": "1f83a9ae-7a82-49b2-cbe0-74fddae8aa63",
        "colab": {
          "base_uri": "https://localhost:8080/"
        }
      },
      "source": [
        "!pip install -U git+https://github.com/UBC-NLP/turjuman.git --q"
      ],
      "execution_count": 1,
      "outputs": [
        {
          "output_type": "stream",
          "name": "stdout",
          "text": [
            "\u001b[K     |████████████████████████████████| 1.2 MB 3.9 MB/s \n",
            "\u001b[K     |████████████████████████████████| 4.2 MB 34.1 MB/s \n",
            "\u001b[K     |████████████████████████████████| 90 kB 4.4 MB/s \n",
            "\u001b[K     |████████████████████████████████| 6.6 MB 33.2 MB/s \n",
            "\u001b[K     |████████████████████████████████| 84 kB 1.1 MB/s \n",
            "\u001b[K     |████████████████████████████████| 596 kB 30.6 MB/s \n",
            "\u001b[?25h  Building wheel for turjuman (setup.py) ... \u001b[?25l\u001b[?25hdone\n"
          ]
        }
      ]
    },
    {
      "cell_type": "markdown",
      "metadata": {
        "id": "yIEH75xsSa9R"
      },
      "source": [
        "##Turjuman Command Line Interface (CLI)\n",
        "Turjuman cli support two types of inputs:\n",
        "- **-t** or **--text**: Write you input text directly on the command line. The translation will display directly on the terminal.\n",
        "- **-f** or **--input_file**: import the text from file. The translation will saved on the JSON format file."
      ]
    },
    {
      "cell_type": "markdown",
      "source": [
        "### (1) Usage and Arguments\n"
      ],
      "metadata": {
        "id": "rgMZ6MN10hHt"
      }
    },
    {
      "cell_type": "code",
      "source": [
        " !turjuman_translate -h"
      ],
      "metadata": {
        "id": "fmf8WadmzvxR",
        "outputId": "f70485d9-62b5-49ae-d2c8-00f567a3a266",
        "colab": {
          "base_uri": "https://localhost:8080/"
        }
      },
      "execution_count": 2,
      "outputs": [
        {
          "output_type": "stream",
          "name": "stdout",
          "text": [
            "usage: turjuman_translate [-h] [-t TEXT] [-f INPUT_FILE] [-m SEARCH_METHOD]\n",
            "                          [-s SEQ_LENGTH] [-o MAX_OUTPUTS] [-b NUM_BEAMS]\n",
            "                          [-n NO_REPEAT_NGRAM_SIZE] [-k TOP_K] [-p TOP_P]\n",
            "                          [-c CACHE_DIR] [-l LOGGING_FILE]\n",
            "\n",
            "Turjuman Translate Command Line Interface (CLI)\n",
            "\n",
            "optional arguments:\n",
            "  -h, --help            show this help message and exit\n",
            "  -t TEXT, --text TEXT  Translate the input text\n",
            "  -f INPUT_FILE, --input_file INPUT_FILE\n",
            "                        Translate the input file\n",
            "  -m SEARCH_METHOD, --search_method SEARCH_METHOD\n",
            "                        Turjuman translation search method should be one of\n",
            "                        the follows ['greedy', 'beam', 'sampling'], default\n",
            "                        value is beam search\n",
            "  -s SEQ_LENGTH, --seq_length SEQ_LENGTH\n",
            "                        The maximum sequence length value, default vlaue is\n",
            "                        512\n",
            "  -o MAX_OUTPUTS, --max_outputs MAX_OUTPUTS\n",
            "                        The maxmuim of the output tanslations, default vlaue\n",
            "                        is 1\n",
            "  -b NUM_BEAMS, --num_beams NUM_BEAMS\n",
            "                        Number of beams, default vlaue is 1\n",
            "  -n NO_REPEAT_NGRAM_SIZE, --no_repeat_ngram_size NO_REPEAT_NGRAM_SIZE\n",
            "                        Number of n-gram that doesn't appears twice, default\n",
            "                        vlaue is 2\n",
            "  -k TOP_K, --top_k TOP_K\n",
            "                        Sample from top K likely next words instead of all\n",
            "                        words, default vlaue is 50\n",
            "  -p TOP_P, --top_p TOP_P\n",
            "                        Sample from the smallest set whose cumulative\n",
            "                        probability mass exceeds p for next words, default\n",
            "                        vlaue is 0.95\n",
            "  -c CACHE_DIR, --cache_dir CACHE_DIR\n",
            "                        The cache directory path, default vlaue is\n",
            "                        turjuman_cache directory\n",
            "  -l LOGGING_FILE, --logging_file LOGGING_FILE\n",
            "                        The logging file path, default vlaue is\n",
            "                        turjuman_translate_cli.log\n"
          ]
        }
      ]
    },
    {
      "cell_type": "markdown",
      "source": [
        "## (2) Translate using beam search (default)\n",
        "- **Beam search** is the *default* generation method on Turjuman\n",
        "- Beam search default setting:\n",
        "  - **-s** or **--seq_length**: The maximum sequence length value, *default vlaue is 512*\n",
        "  - **-o** or **--max_outputs**: The maxmuim of the output tanslations (*default vlaue is 1*)\n",
        "  - **-b** or **--num_beams NUM_BEAMS**: Number of beams (*default vlaue is 1*)\n",
        "  - **-n** or **--no_repeat_ngram_size**: Number of n-gram that doesn't appears twice (*default vlaue is 2*)"
      ],
      "metadata": {
        "id": "9Vmrkr9azIXZ"
      }
    },
    {
      "cell_type": "code",
      "source": [
        " # Beam search is the default generation method on Turjuman\n",
        " !turjuman_translate --text \"This has got to be one of the best stores in the world !\""
      ],
      "metadata": {
        "id": "J5mTVnmey1ZF",
        "outputId": "538d1c65-2c78-4d26-a247-bfdea22fa11b",
        "colab": {
          "base_uri": "https://localhost:8080/"
        }
      },
      "execution_count": 3,
      "outputs": [
        {
          "output_type": "stream",
          "name": "stdout",
          "text": [
            "2022-05-13 01:49:37 | INFO | turjuman.translate_cli | Turjuman Translate Command Line Interface\n",
            "2022-05-13 01:49:37 | INFO | turjuman.translate_cli | Translate from input sentence\n",
            "2022-05-13 01:49:37 | INFO | turjuman.translate_cli | Loading model from UBC-NLP/turjuman\n",
            "Downloading: 100% 1.85k/1.85k [00:00<00:00, 1.20MB/s]\n",
            "Downloading: 100% 565/565 [00:00<00:00, 317kB/s]\n",
            "Downloading: 100% 2.32M/2.32M [00:01<00:00, 1.66MB/s]\n",
            "Downloading: 100% 1.74k/1.74k [00:00<00:00, 1.30MB/s]\n",
            "Downloading: 100% 565/565 [00:00<00:00, 416kB/s]\n",
            "Downloading: 100% 1.05G/1.05G [00:56<00:00, 20.0MB/s]\n",
            "2022-05-13 01:50:57 | INFO | turjuman.translate_cli | Using beam search\n",
            "source: This has got to be one of the best stores in the world !\n",
            "target: لقد أصبح هذا واحد من أفضل المتاجر في العالم!\n"
          ]
        }
      ]
    },
    {
      "cell_type": "markdown",
      "source": [
        "## (3) Translate using greedy search\n",
        "- Greedy search default setting:\n",
        "  - **-s** or **--seq_length**: The maximum sequence length value, *default vlaue is 512*"
      ],
      "metadata": {
        "id": "IxXNAdmEGApC"
      }
    },
    {
      "cell_type": "code",
      "source": [
        "!turjuman_translate --search_method greedy --text \"This has got to be one of the best stores in the world !\""
      ],
      "metadata": {
        "colab": {
          "base_uri": "https://localhost:8080/"
        },
        "id": "Ilx8hd44CXYS",
        "outputId": "71be73ec-dd89-4fc4-ad7e-b079e79d3f40"
      },
      "execution_count": 4,
      "outputs": [
        {
          "output_type": "stream",
          "name": "stdout",
          "text": [
            "2022-05-13 01:51:06 | INFO | turjuman.translate_cli | Turjuman Translate Command Line Interface\n",
            "2022-05-13 01:51:06 | INFO | turjuman.translate_cli | Translate from input sentence\n",
            "2022-05-13 01:51:06 | INFO | turjuman.translate_cli | Loading model from UBC-NLP/turjuman\n",
            "2022-05-13 01:51:21 | INFO | turjuman.translate_cli | Using greedy search\n",
            "source: This has got to be one of the best stores in the world !\n",
            "target: هذا كان من أفضل المتاجر في العالم!\n"
          ]
        }
      ]
    },
    {
      "cell_type": "markdown",
      "source": [
        "## (4) Translate using sampling search\n",
        "- Sampling search default setting:\n",
        "  - **-s** or **--seq_length**: The maximum sequence length value, *default vlaue is 512*\n",
        "  - **-o** or **--max_outputs**: The maxmuim of the output tanslations (*default vlaue is 1*)\n",
        "  - **-k** or **--top_k**: Sample from top K likely next words instead of all words (*default vlaue is 50*)\n",
        "  - **-p** or **--top_p**: Sample from the smallest set whose cumulative probability mass exceeds p for next words (*default vlaue is 0.95*)"
      ],
      "metadata": {
        "id": "cNDGxEorGcM5"
      }
    },
    {
      "cell_type": "code",
      "source": [
        "!turjuman_translate --search_method sampling --text \"This has got to be one of the best stores in the world !\""
      ],
      "metadata": {
        "colab": {
          "base_uri": "https://localhost:8080/"
        },
        "id": "xvW56rEiCgnf",
        "outputId": "53f0a95d-1f03-47e9-a33a-3ea3c7dd1173"
      },
      "execution_count": 5,
      "outputs": [
        {
          "output_type": "stream",
          "name": "stdout",
          "text": [
            "2022-05-13 01:51:29 | INFO | turjuman.translate_cli | Turjuman Translate Command Line Interface\n",
            "2022-05-13 01:51:29 | INFO | turjuman.translate_cli | Translate from input sentence\n",
            "2022-05-13 01:51:29 | INFO | turjuman.translate_cli | Loading model from UBC-NLP/turjuman\n",
            "2022-05-13 01:51:44 | INFO | turjuman.translate_cli | Using sampling search\n",
            "source: This has got to be one of the best stores in the world !\n",
            "target: - و لهذا هذا واحد من أفضل الدكاكين في العالم\n"
          ]
        }
      ]
    },
    {
      "cell_type": "markdown",
      "source": [
        "## (5) Read and translate text from file\n",
        "- **-f** or **--input_file**: import the text from file. The translation will saved on the JSON format file"
      ],
      "metadata": {
        "id": "sTGSrBa9JWdL"
      }
    },
    {
      "cell_type": "code",
      "source": [
        "!wget https://raw.githubusercontent.com/UBC-NLP/turjuman/main/examples/samples.txt"
      ],
      "metadata": {
        "colab": {
          "base_uri": "https://localhost:8080/"
        },
        "id": "JJ_-w_y8JyGt",
        "outputId": "7e4df816-458d-4ea2-8090-79e8defd9db5"
      },
      "execution_count": 6,
      "outputs": [
        {
          "output_type": "stream",
          "name": "stdout",
          "text": [
            "--2022-05-13 01:51:48--  https://raw.githubusercontent.com/UBC-NLP/turjuman/main/examples/samples.txt\n",
            "Resolving raw.githubusercontent.com (raw.githubusercontent.com)... 185.199.108.133, 185.199.109.133, 185.199.110.133, ...\n",
            "Connecting to raw.githubusercontent.com (raw.githubusercontent.com)|185.199.108.133|:443... connected.\n",
            "HTTP request sent, awaiting response... 200 OK\n",
            "Length: 278 [text/plain]\n",
            "Saving to: ‘samples.txt’\n",
            "\n",
            "samples.txt         100%[===================>]     278  --.-KB/s    in 0s      \n",
            "\n",
            "2022-05-13 01:51:48 (4.72 MB/s) - ‘samples.txt’ saved [278/278]\n",
            "\n"
          ]
        }
      ]
    },
    {
      "cell_type": "code",
      "source": [
        " # translate sentences that imported from file using default Beam search\n",
        " !turjuman_translate --input_file samples.txt"
      ],
      "metadata": {
        "colab": {
          "base_uri": "https://localhost:8080/"
        },
        "id": "S0TI6W24HGk9",
        "outputId": "8695fccb-96a9-44f4-e098-f98e10185402"
      },
      "execution_count": 7,
      "outputs": [
        {
          "output_type": "stream",
          "name": "stdout",
          "text": [
            "2022-05-13 01:51:53 | INFO | turjuman.translate_cli | Turjuman Translate Command Line Interface\n",
            "2022-05-13 01:51:53 | INFO | turjuman.translate_cli | Translate from input file samples.txt\n",
            "2022-05-13 01:51:53 | INFO | turjuman.translate_cli | Loading model from UBC-NLP/turjuman\n",
            "2022-05-13 01:52:08 | INFO | turjuman.translate_cli | Using beam search\n",
            "2022-05-13 01:52:17 | INFO | turjuman.translate_cli | The translation are saved on samples_Turjuman_translate.json\n"
          ]
        }
      ]
    },
    {
      "cell_type": "code",
      "source": [
        "#read the output file\n",
        "import pandas as pd\n",
        "pd.set_option('display.max_columns', None)  \n",
        "pd.set_option('display.max_colwidth', None)\n",
        "df = pd.read_json(\"samples_Turjuman_translate.json\", orient='records', lines=True)\n",
        "df"
      ],
      "metadata": {
        "id": "eqwIswDDKjeB",
        "colab": {
          "base_uri": "https://localhost:8080/",
          "height": 206
        },
        "outputId": "8f19d03f-fec4-4279-8a2d-741c2d05b26a"
      },
      "execution_count": 8,
      "outputs": [
        {
          "output_type": "execute_result",
          "data": {
            "text/plain": [
              "                                                                              source  \\\n",
              "0                           This has got to be one of the best stores in the world !   \n",
              "1        C’ ́etait un travail rapide, propre et de qualit ́e. pr ́evoyez de revenir.   \n",
              "2                                                               direk burası berbat.   \n",
              "3  Uma estrela, eu nunca lidei com pessoas t ̃ao insistentes, rudes e manipuladoras.   \n",
              "4                                                                     날씨가 좋은데 산에 가자.   \n",
              "\n",
              "                                         target  \n",
              "0  لقد أصبح هذا واحد من أفضل المتاجر في العالم!  \n",
              "1               كان هناك عمل سريع ، نظيف ونوعي.  \n",
              "2                             تَركَبُ مِن قِبل   \n",
              "3    نجم واحد ، لم أحب أبدا أناسا مُصرين ووقحين  \n",
              "4                يُمكنك أن تُخبرنا كيف نُصبح مُ  "
            ],
            "text/html": [
              "\n",
              "  <div id=\"df-efd38c8f-2f44-460c-b6f2-6a827778d598\">\n",
              "    <div class=\"colab-df-container\">\n",
              "      <div>\n",
              "<style scoped>\n",
              "    .dataframe tbody tr th:only-of-type {\n",
              "        vertical-align: middle;\n",
              "    }\n",
              "\n",
              "    .dataframe tbody tr th {\n",
              "        vertical-align: top;\n",
              "    }\n",
              "\n",
              "    .dataframe thead th {\n",
              "        text-align: right;\n",
              "    }\n",
              "</style>\n",
              "<table border=\"1\" class=\"dataframe\">\n",
              "  <thead>\n",
              "    <tr style=\"text-align: right;\">\n",
              "      <th></th>\n",
              "      <th>source</th>\n",
              "      <th>target</th>\n",
              "    </tr>\n",
              "  </thead>\n",
              "  <tbody>\n",
              "    <tr>\n",
              "      <th>0</th>\n",
              "      <td>This has got to be one of the best stores in the world !</td>\n",
              "      <td>لقد أصبح هذا واحد من أفضل المتاجر في العالم!</td>\n",
              "    </tr>\n",
              "    <tr>\n",
              "      <th>1</th>\n",
              "      <td>C’ ́etait un travail rapide, propre et de qualit ́e. pr ́evoyez de revenir.</td>\n",
              "      <td>كان هناك عمل سريع ، نظيف ونوعي.</td>\n",
              "    </tr>\n",
              "    <tr>\n",
              "      <th>2</th>\n",
              "      <td>direk burası berbat.</td>\n",
              "      <td>تَركَبُ مِن قِبل</td>\n",
              "    </tr>\n",
              "    <tr>\n",
              "      <th>3</th>\n",
              "      <td>Uma estrela, eu nunca lidei com pessoas t ̃ao insistentes, rudes e manipuladoras.</td>\n",
              "      <td>نجم واحد ، لم أحب أبدا أناسا مُصرين ووقحين</td>\n",
              "    </tr>\n",
              "    <tr>\n",
              "      <th>4</th>\n",
              "      <td>날씨가 좋은데 산에 가자.</td>\n",
              "      <td>يُمكنك أن تُخبرنا كيف نُصبح مُ</td>\n",
              "    </tr>\n",
              "  </tbody>\n",
              "</table>\n",
              "</div>\n",
              "      <button class=\"colab-df-convert\" onclick=\"convertToInteractive('df-efd38c8f-2f44-460c-b6f2-6a827778d598')\"\n",
              "              title=\"Convert this dataframe to an interactive table.\"\n",
              "              style=\"display:none;\">\n",
              "        \n",
              "  <svg xmlns=\"http://www.w3.org/2000/svg\" height=\"24px\"viewBox=\"0 0 24 24\"\n",
              "       width=\"24px\">\n",
              "    <path d=\"M0 0h24v24H0V0z\" fill=\"none\"/>\n",
              "    <path d=\"M18.56 5.44l.94 2.06.94-2.06 2.06-.94-2.06-.94-.94-2.06-.94 2.06-2.06.94zm-11 1L8.5 8.5l.94-2.06 2.06-.94-2.06-.94L8.5 2.5l-.94 2.06-2.06.94zm10 10l.94 2.06.94-2.06 2.06-.94-2.06-.94-.94-2.06-.94 2.06-2.06.94z\"/><path d=\"M17.41 7.96l-1.37-1.37c-.4-.4-.92-.59-1.43-.59-.52 0-1.04.2-1.43.59L10.3 9.45l-7.72 7.72c-.78.78-.78 2.05 0 2.83L4 21.41c.39.39.9.59 1.41.59.51 0 1.02-.2 1.41-.59l7.78-7.78 2.81-2.81c.8-.78.8-2.07 0-2.86zM5.41 20L4 18.59l7.72-7.72 1.47 1.35L5.41 20z\"/>\n",
              "  </svg>\n",
              "      </button>\n",
              "      \n",
              "  <style>\n",
              "    .colab-df-container {\n",
              "      display:flex;\n",
              "      flex-wrap:wrap;\n",
              "      gap: 12px;\n",
              "    }\n",
              "\n",
              "    .colab-df-convert {\n",
              "      background-color: #E8F0FE;\n",
              "      border: none;\n",
              "      border-radius: 50%;\n",
              "      cursor: pointer;\n",
              "      display: none;\n",
              "      fill: #1967D2;\n",
              "      height: 32px;\n",
              "      padding: 0 0 0 0;\n",
              "      width: 32px;\n",
              "    }\n",
              "\n",
              "    .colab-df-convert:hover {\n",
              "      background-color: #E2EBFA;\n",
              "      box-shadow: 0px 1px 2px rgba(60, 64, 67, 0.3), 0px 1px 3px 1px rgba(60, 64, 67, 0.15);\n",
              "      fill: #174EA6;\n",
              "    }\n",
              "\n",
              "    [theme=dark] .colab-df-convert {\n",
              "      background-color: #3B4455;\n",
              "      fill: #D2E3FC;\n",
              "    }\n",
              "\n",
              "    [theme=dark] .colab-df-convert:hover {\n",
              "      background-color: #434B5C;\n",
              "      box-shadow: 0px 1px 3px 1px rgba(0, 0, 0, 0.15);\n",
              "      filter: drop-shadow(0px 1px 2px rgba(0, 0, 0, 0.3));\n",
              "      fill: #FFFFFF;\n",
              "    }\n",
              "  </style>\n",
              "\n",
              "      <script>\n",
              "        const buttonEl =\n",
              "          document.querySelector('#df-efd38c8f-2f44-460c-b6f2-6a827778d598 button.colab-df-convert');\n",
              "        buttonEl.style.display =\n",
              "          google.colab.kernel.accessAllowed ? 'block' : 'none';\n",
              "\n",
              "        async function convertToInteractive(key) {\n",
              "          const element = document.querySelector('#df-efd38c8f-2f44-460c-b6f2-6a827778d598');\n",
              "          const dataTable =\n",
              "            await google.colab.kernel.invokeFunction('convertToInteractive',\n",
              "                                                     [key], {});\n",
              "          if (!dataTable) return;\n",
              "\n",
              "          const docLinkHtml = 'Like what you see? Visit the ' +\n",
              "            '<a target=\"_blank\" href=https://colab.research.google.com/notebooks/data_table.ipynb>data table notebook</a>'\n",
              "            + ' to learn more about interactive tables.';\n",
              "          element.innerHTML = '';\n",
              "          dataTable['output_type'] = 'display_data';\n",
              "          await google.colab.output.renderOutput(dataTable, element);\n",
              "          const docLink = document.createElement('div');\n",
              "          docLink.innerHTML = docLinkHtml;\n",
              "          element.appendChild(docLink);\n",
              "        }\n",
              "      </script>\n",
              "    </div>\n",
              "  </div>\n",
              "  "
            ]
          },
          "metadata": {},
          "execution_count": 8
        }
      ]
    },
    {
      "cell_type": "code",
      "source": [
        " # translate sentences that imported from file usinf default Beam search\n",
        " !turjuman_translate --input_file samples.txt --max_outputs 3"
      ],
      "metadata": {
        "id": "F9DuSxLuKpwz",
        "colab": {
          "base_uri": "https://localhost:8080/"
        },
        "outputId": "a7d9cbe2-22bf-4ec8-c79d-b5b72c871d78"
      },
      "execution_count": 9,
      "outputs": [
        {
          "output_type": "stream",
          "name": "stdout",
          "text": [
            "2022-05-13 01:52:25 | INFO | turjuman.translate_cli | Turjuman Translate Command Line Interface\n",
            "2022-05-13 01:52:25 | INFO | turjuman.translate_cli | Translate from input file samples.txt\n",
            "2022-05-13 01:52:25 | INFO | turjuman.translate_cli | Loading model from UBC-NLP/turjuman\n",
            "2022-05-13 01:52:40 | INFO | turjuman.translate_cli | Using beam search\n",
            "2022-05-13 01:52:49 | INFO | turjuman.translate_cli | The translation are saved on samples_Turjuman_translate.json\n"
          ]
        }
      ]
    },
    {
      "cell_type": "code",
      "source": [
        "df = pd.read_json(\"samples_Turjuman_translate.json\", orient='records', lines=True)\n",
        "df"
      ],
      "metadata": {
        "colab": {
          "base_uri": "https://localhost:8080/",
          "height": 206
        },
        "id": "aza_GVRt2-r_",
        "outputId": "57fe520d-7460-4f7f-955b-c52271801155"
      },
      "execution_count": 10,
      "outputs": [
        {
          "output_type": "execute_result",
          "data": {
            "text/plain": [
              "                                                                              source  \\\n",
              "0                           This has got to be one of the best stores in the world !   \n",
              "1        C’ ́etait un travail rapide, propre et de qualit ́e. pr ́evoyez de revenir.   \n",
              "2                                                               direk burası berbat.   \n",
              "3  Uma estrela, eu nunca lidei com pessoas t ̃ao insistentes, rudes e manipuladoras.   \n",
              "4                                                                     날씨가 좋은데 산에 가자.   \n",
              "\n",
              "                                                                                                                                3_targets  \n",
              "0  [لقد أصبح هذا واحد من أفضل المتاجر في العالم!, لقد أصبح هذا واحدا من أفضل المتاجر في العالم!, لقد أصبح هذا من أفضل المتاجر في العالم!]  \n",
              "1                                 [كان هناك عمل سريع ، نظيف ونوعي., كان هناك عمل سريع ، نظيف ومن نوع ما., كان هناك عمل سريع ، نظيف وجيد.]  \n",
              "2                                                                                [تَركَبُ مِن قِبل , تَحمَلُ مِن قِبل , تَحمَلُهُ مِن قِ]  \n",
              "3       [نجم واحد ، لم أحب أبدا أناسا مُصرين ووقحين, نجم واحد ، لم أحب أبدا أناسا مُصرّين ومُ, نجم واحد ، لم أحب أبدا أناسا مُصرّين ووقح]  \n",
              "4                                                   [يُمكنك أن تُخبرنا كيف نُصبح مُ, يُمكنك أن تُخبرنا عن هذا., يُمكن أن تُستخدم كأدوات.]  "
            ],
            "text/html": [
              "\n",
              "  <div id=\"df-fa45ca84-a250-4f79-9af0-5ddd0cd39932\">\n",
              "    <div class=\"colab-df-container\">\n",
              "      <div>\n",
              "<style scoped>\n",
              "    .dataframe tbody tr th:only-of-type {\n",
              "        vertical-align: middle;\n",
              "    }\n",
              "\n",
              "    .dataframe tbody tr th {\n",
              "        vertical-align: top;\n",
              "    }\n",
              "\n",
              "    .dataframe thead th {\n",
              "        text-align: right;\n",
              "    }\n",
              "</style>\n",
              "<table border=\"1\" class=\"dataframe\">\n",
              "  <thead>\n",
              "    <tr style=\"text-align: right;\">\n",
              "      <th></th>\n",
              "      <th>source</th>\n",
              "      <th>3_targets</th>\n",
              "    </tr>\n",
              "  </thead>\n",
              "  <tbody>\n",
              "    <tr>\n",
              "      <th>0</th>\n",
              "      <td>This has got to be one of the best stores in the world !</td>\n",
              "      <td>[لقد أصبح هذا واحد من أفضل المتاجر في العالم!, لقد أصبح هذا واحدا من أفضل المتاجر في العالم!, لقد أصبح هذا من أفضل المتاجر في العالم!]</td>\n",
              "    </tr>\n",
              "    <tr>\n",
              "      <th>1</th>\n",
              "      <td>C’ ́etait un travail rapide, propre et de qualit ́e. pr ́evoyez de revenir.</td>\n",
              "      <td>[كان هناك عمل سريع ، نظيف ونوعي., كان هناك عمل سريع ، نظيف ومن نوع ما., كان هناك عمل سريع ، نظيف وجيد.]</td>\n",
              "    </tr>\n",
              "    <tr>\n",
              "      <th>2</th>\n",
              "      <td>direk burası berbat.</td>\n",
              "      <td>[تَركَبُ مِن قِبل , تَحمَلُ مِن قِبل , تَحمَلُهُ مِن قِ]</td>\n",
              "    </tr>\n",
              "    <tr>\n",
              "      <th>3</th>\n",
              "      <td>Uma estrela, eu nunca lidei com pessoas t ̃ao insistentes, rudes e manipuladoras.</td>\n",
              "      <td>[نجم واحد ، لم أحب أبدا أناسا مُصرين ووقحين, نجم واحد ، لم أحب أبدا أناسا مُصرّين ومُ, نجم واحد ، لم أحب أبدا أناسا مُصرّين ووقح]</td>\n",
              "    </tr>\n",
              "    <tr>\n",
              "      <th>4</th>\n",
              "      <td>날씨가 좋은데 산에 가자.</td>\n",
              "      <td>[يُمكنك أن تُخبرنا كيف نُصبح مُ, يُمكنك أن تُخبرنا عن هذا., يُمكن أن تُستخدم كأدوات.]</td>\n",
              "    </tr>\n",
              "  </tbody>\n",
              "</table>\n",
              "</div>\n",
              "      <button class=\"colab-df-convert\" onclick=\"convertToInteractive('df-fa45ca84-a250-4f79-9af0-5ddd0cd39932')\"\n",
              "              title=\"Convert this dataframe to an interactive table.\"\n",
              "              style=\"display:none;\">\n",
              "        \n",
              "  <svg xmlns=\"http://www.w3.org/2000/svg\" height=\"24px\"viewBox=\"0 0 24 24\"\n",
              "       width=\"24px\">\n",
              "    <path d=\"M0 0h24v24H0V0z\" fill=\"none\"/>\n",
              "    <path d=\"M18.56 5.44l.94 2.06.94-2.06 2.06-.94-2.06-.94-.94-2.06-.94 2.06-2.06.94zm-11 1L8.5 8.5l.94-2.06 2.06-.94-2.06-.94L8.5 2.5l-.94 2.06-2.06.94zm10 10l.94 2.06.94-2.06 2.06-.94-2.06-.94-.94-2.06-.94 2.06-2.06.94z\"/><path d=\"M17.41 7.96l-1.37-1.37c-.4-.4-.92-.59-1.43-.59-.52 0-1.04.2-1.43.59L10.3 9.45l-7.72 7.72c-.78.78-.78 2.05 0 2.83L4 21.41c.39.39.9.59 1.41.59.51 0 1.02-.2 1.41-.59l7.78-7.78 2.81-2.81c.8-.78.8-2.07 0-2.86zM5.41 20L4 18.59l7.72-7.72 1.47 1.35L5.41 20z\"/>\n",
              "  </svg>\n",
              "      </button>\n",
              "      \n",
              "  <style>\n",
              "    .colab-df-container {\n",
              "      display:flex;\n",
              "      flex-wrap:wrap;\n",
              "      gap: 12px;\n",
              "    }\n",
              "\n",
              "    .colab-df-convert {\n",
              "      background-color: #E8F0FE;\n",
              "      border: none;\n",
              "      border-radius: 50%;\n",
              "      cursor: pointer;\n",
              "      display: none;\n",
              "      fill: #1967D2;\n",
              "      height: 32px;\n",
              "      padding: 0 0 0 0;\n",
              "      width: 32px;\n",
              "    }\n",
              "\n",
              "    .colab-df-convert:hover {\n",
              "      background-color: #E2EBFA;\n",
              "      box-shadow: 0px 1px 2px rgba(60, 64, 67, 0.3), 0px 1px 3px 1px rgba(60, 64, 67, 0.15);\n",
              "      fill: #174EA6;\n",
              "    }\n",
              "\n",
              "    [theme=dark] .colab-df-convert {\n",
              "      background-color: #3B4455;\n",
              "      fill: #D2E3FC;\n",
              "    }\n",
              "\n",
              "    [theme=dark] .colab-df-convert:hover {\n",
              "      background-color: #434B5C;\n",
              "      box-shadow: 0px 1px 3px 1px rgba(0, 0, 0, 0.15);\n",
              "      filter: drop-shadow(0px 1px 2px rgba(0, 0, 0, 0.3));\n",
              "      fill: #FFFFFF;\n",
              "    }\n",
              "  </style>\n",
              "\n",
              "      <script>\n",
              "        const buttonEl =\n",
              "          document.querySelector('#df-fa45ca84-a250-4f79-9af0-5ddd0cd39932 button.colab-df-convert');\n",
              "        buttonEl.style.display =\n",
              "          google.colab.kernel.accessAllowed ? 'block' : 'none';\n",
              "\n",
              "        async function convertToInteractive(key) {\n",
              "          const element = document.querySelector('#df-fa45ca84-a250-4f79-9af0-5ddd0cd39932');\n",
              "          const dataTable =\n",
              "            await google.colab.kernel.invokeFunction('convertToInteractive',\n",
              "                                                     [key], {});\n",
              "          if (!dataTable) return;\n",
              "\n",
              "          const docLinkHtml = 'Like what you see? Visit the ' +\n",
              "            '<a target=\"_blank\" href=https://colab.research.google.com/notebooks/data_table.ipynb>data table notebook</a>'\n",
              "            + ' to learn more about interactive tables.';\n",
              "          element.innerHTML = '';\n",
              "          dataTable['output_type'] = 'display_data';\n",
              "          await google.colab.output.renderOutput(dataTable, element);\n",
              "          const docLink = document.createElement('div');\n",
              "          docLink.innerHTML = docLinkHtml;\n",
              "          element.appendChild(docLink);\n",
              "        }\n",
              "      </script>\n",
              "    </div>\n",
              "  </div>\n",
              "  "
            ]
          },
          "metadata": {},
          "execution_count": 10
        }
      ]
    },
    {
      "cell_type": "code",
      "source": [
        ""
      ],
      "metadata": {
        "id": "Um8O9lz73Ap9"
      },
      "execution_count": null,
      "outputs": []
    }
  ]
}