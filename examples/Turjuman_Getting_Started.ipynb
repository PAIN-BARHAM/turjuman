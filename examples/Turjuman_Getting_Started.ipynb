{
  "nbformat": 4,
  "nbformat_minor": 0,
  "metadata": {
    "colab": {
      "name": "Turjuman Getting Started.ipynb",
      "provenance": [],
      "collapsed_sections": []
    },
    "kernelspec": {
      "name": "python3",
      "display_name": "Python 3"
    },
    "language_info": {
      "name": "python"
    }
  },
  "cells": [
    {
      "cell_type": "markdown",
      "metadata": {
        "id": "A_kDLcjaRErP"
      },
      "source": [
        "#TURJUMAN\n",
        "TURJUMAN, a neural toolkit for translating from 20 languages into Modern Standard Arabic (MSA). TURJUMAN exploits the recently-introduced text-to-text Transformer [AraT5 model](https://github.com/UBC-NLP/araT5) (Nagoudi et al., 2022), endowing it with a powerful ability to decode into Arabic. The toolkit offers the possibility of employing a number of diverse decoding methods, making it suited for acquiring paraphrases for the MSA translations as an added value. To train TURJUMAN, we sample from publicly available parallel data employing a simple semantic similarity method to ensure data quality.\n",
        "\n",
        "---\n",
        "\n",
        "\n",
        "https://github.com/UBC-NLP/turjuman"
      ]
    },
    {
      "cell_type": "markdown",
      "metadata": {
        "id": "K4wxJ06TSRad"
      },
      "source": [
        "##Install requirments"
      ]
    },
    {
      "cell_type": "code",
      "metadata": {
        "id": "YH2WCTBYSasB",
        "outputId": "07e3164b-d465-4ef4-9474-55ed75342926",
        "colab": {
          "base_uri": "https://localhost:8080/"
        }
      },
      "source": [
        "!pip install -U git+https://github.com/UBC-NLP/turjuman.git"
      ],
      "execution_count": 1,
      "outputs": [
        {
          "output_type": "stream",
          "name": "stdout",
          "text": [
            "Collecting git+https://github.com/UBC-NLP/turjuman.git\n",
            "  Cloning https://github.com/UBC-NLP/turjuman.git to /tmp/pip-req-build-3ew2q6dt\n",
            "  Running command git clone -q https://github.com/UBC-NLP/turjuman.git /tmp/pip-req-build-3ew2q6dt\n",
            "Requirement already satisfied: regex in /usr/local/lib/python3.7/dist-packages (from turjuman==1.0.0) (2019.12.20)\n",
            "Requirement already satisfied: torch in /usr/local/lib/python3.7/dist-packages (from turjuman==1.0.0) (1.11.0+cu113)\n",
            "Requirement already satisfied: protobuf in /usr/local/lib/python3.7/dist-packages (from turjuman==1.0.0) (3.17.3)\n",
            "Collecting sentencepiece\n",
            "  Downloading sentencepiece-0.1.96-cp37-cp37m-manylinux_2_17_x86_64.manylinux2014_x86_64.whl (1.2 MB)\n",
            "\u001b[K     |████████████████████████████████| 1.2 MB 2.8 MB/s \n",
            "\u001b[?25hCollecting transformers\n",
            "  Downloading transformers-4.19.0-py3-none-any.whl (4.2 MB)\n",
            "\u001b[K     |████████████████████████████████| 4.2 MB 7.6 MB/s \n",
            "\u001b[?25hRequirement already satisfied: psutil in /usr/local/lib/python3.7/dist-packages (from turjuman==1.0.0) (5.4.8)\n",
            "Requirement already satisfied: pandas in /usr/local/lib/python3.7/dist-packages (from turjuman==1.0.0) (1.3.5)\n",
            "Requirement already satisfied: tqdm in /usr/local/lib/python3.7/dist-packages (from turjuman==1.0.0) (4.64.0)\n",
            "Collecting sacrebleu\n",
            "  Downloading sacrebleu-2.0.0-py3-none-any.whl (90 kB)\n",
            "\u001b[K     |████████████████████████████████| 90 kB 4.2 MB/s \n",
            "\u001b[?25hRequirement already satisfied: numpy>=1.17.3 in /usr/local/lib/python3.7/dist-packages (from pandas->turjuman==1.0.0) (1.21.6)\n",
            "Requirement already satisfied: pytz>=2017.3 in /usr/local/lib/python3.7/dist-packages (from pandas->turjuman==1.0.0) (2022.1)\n",
            "Requirement already satisfied: python-dateutil>=2.7.3 in /usr/local/lib/python3.7/dist-packages (from pandas->turjuman==1.0.0) (2.8.2)\n",
            "Requirement already satisfied: six>=1.5 in /usr/local/lib/python3.7/dist-packages (from python-dateutil>=2.7.3->pandas->turjuman==1.0.0) (1.15.0)\n",
            "Requirement already satisfied: tabulate>=0.8.9 in /usr/local/lib/python3.7/dist-packages (from sacrebleu->turjuman==1.0.0) (0.8.9)\n",
            "Collecting portalocker\n",
            "  Downloading portalocker-2.4.0-py2.py3-none-any.whl (16 kB)\n",
            "Collecting colorama\n",
            "  Downloading colorama-0.4.4-py2.py3-none-any.whl (16 kB)\n",
            "Requirement already satisfied: typing-extensions in /usr/local/lib/python3.7/dist-packages (from torch->turjuman==1.0.0) (4.2.0)\n",
            "Requirement already satisfied: requests in /usr/local/lib/python3.7/dist-packages (from transformers->turjuman==1.0.0) (2.23.0)\n",
            "Collecting pyyaml>=5.1\n",
            "  Downloading PyYAML-6.0-cp37-cp37m-manylinux_2_5_x86_64.manylinux1_x86_64.manylinux_2_12_x86_64.manylinux2010_x86_64.whl (596 kB)\n",
            "\u001b[K     |████████████████████████████████| 596 kB 34.8 MB/s \n",
            "\u001b[?25hCollecting tokenizers!=0.11.3,<0.13,>=0.11.1\n",
            "  Downloading tokenizers-0.12.1-cp37-cp37m-manylinux_2_12_x86_64.manylinux2010_x86_64.whl (6.6 MB)\n",
            "\u001b[K     |████████████████████████████████| 6.6 MB 52.4 MB/s \n",
            "\u001b[?25hRequirement already satisfied: packaging>=20.0 in /usr/local/lib/python3.7/dist-packages (from transformers->turjuman==1.0.0) (21.3)\n",
            "Requirement already satisfied: importlib-metadata in /usr/local/lib/python3.7/dist-packages (from transformers->turjuman==1.0.0) (4.11.3)\n",
            "Requirement already satisfied: filelock in /usr/local/lib/python3.7/dist-packages (from transformers->turjuman==1.0.0) (3.6.0)\n",
            "Collecting huggingface-hub<1.0,>=0.1.0\n",
            "  Downloading huggingface_hub-0.6.0-py3-none-any.whl (84 kB)\n",
            "\u001b[K     |████████████████████████████████| 84 kB 2.4 MB/s \n",
            "\u001b[?25hRequirement already satisfied: pyparsing!=3.0.5,>=2.0.2 in /usr/local/lib/python3.7/dist-packages (from packaging>=20.0->transformers->turjuman==1.0.0) (3.0.8)\n",
            "Requirement already satisfied: zipp>=0.5 in /usr/local/lib/python3.7/dist-packages (from importlib-metadata->transformers->turjuman==1.0.0) (3.8.0)\n",
            "Requirement already satisfied: idna<3,>=2.5 in /usr/local/lib/python3.7/dist-packages (from requests->transformers->turjuman==1.0.0) (2.10)\n",
            "Requirement already satisfied: chardet<4,>=3.0.2 in /usr/local/lib/python3.7/dist-packages (from requests->transformers->turjuman==1.0.0) (3.0.4)\n",
            "Requirement already satisfied: certifi>=2017.4.17 in /usr/local/lib/python3.7/dist-packages (from requests->transformers->turjuman==1.0.0) (2021.10.8)\n",
            "Requirement already satisfied: urllib3!=1.25.0,!=1.25.1,<1.26,>=1.21.1 in /usr/local/lib/python3.7/dist-packages (from requests->transformers->turjuman==1.0.0) (1.24.3)\n",
            "Building wheels for collected packages: turjuman\n",
            "  Building wheel for turjuman (setup.py) ... \u001b[?25l\u001b[?25hdone\n",
            "  Created wheel for turjuman: filename=turjuman-1.0.0-py3-none-any.whl size=21358 sha256=9c3bc715cbd7c0020e43a287d238be0f1679cbf72ff3654f666c5eb0bb5f6b50\n",
            "  Stored in directory: /tmp/pip-ephem-wheel-cache-3yshht_4/wheels/82/d2/db/2a15095f8f26f9af871a45805625325d997c5eeb2067eab2dc\n",
            "Successfully built turjuman\n",
            "Installing collected packages: pyyaml, tokenizers, portalocker, huggingface-hub, colorama, transformers, sentencepiece, sacrebleu, turjuman\n",
            "  Attempting uninstall: pyyaml\n",
            "    Found existing installation: PyYAML 3.13\n",
            "    Uninstalling PyYAML-3.13:\n",
            "      Successfully uninstalled PyYAML-3.13\n",
            "Successfully installed colorama-0.4.4 huggingface-hub-0.6.0 portalocker-2.4.0 pyyaml-6.0 sacrebleu-2.0.0 sentencepiece-0.1.96 tokenizers-0.12.1 transformers-4.19.0 turjuman-1.0.0\n"
          ]
        }
      ]
    },
    {
      "cell_type": "markdown",
      "metadata": {
        "id": "yIEH75xsSa9R"
      },
      "source": [
        "##Turjuman Command Line Interface (CLI)\n",
        "Turjuman cli support two types of inputs:\n",
        "- **-t** or **--text**: Write you input text directly on the command line. The translation will display directly on the terminal.\n",
        "- **-f** or **--input_file**: import the text from file. The translation will saved on the JSON format file."
      ]
    },
    {
      "cell_type": "markdown",
      "source": [
        "### (1) Usage and Arguments\n"
      ],
      "metadata": {
        "id": "rgMZ6MN10hHt"
      }
    },
    {
      "cell_type": "code",
      "source": [
        " !turjuman_translate -h"
      ],
      "metadata": {
        "id": "fmf8WadmzvxR",
        "outputId": "325a58bf-01dd-483c-f770-59bed5d24635",
        "colab": {
          "base_uri": "https://localhost:8080/"
        }
      },
      "execution_count": null,
      "outputs": [
        {
          "output_type": "stream",
          "name": "stdout",
          "text": [
            "usage: turjuman_translate [-h] [-t TEXT] [-f INPUT_FILE] [-m SEARCH_METHOD]\n",
            "                          [-s SEQ_LENGTH] [-o MAX_OUTPUTS] [-b NUM_BEAMS]\n",
            "                          [-n NO_REPEAT_NGRAM_SIZE] [-k TOP_K] [-p TOP_P]\n",
            "                          [-c CACHE_DIR] [-l LOGGING_FILE]\n",
            "\n",
            "Turjuman Translate Command Line Interface (CLI)\n",
            "\n",
            "optional arguments:\n",
            "  -h, --help            show this help message and exit\n",
            "  -t TEXT, --text TEXT  Translate the input text\n",
            "  -f INPUT_FILE, --input_file INPUT_FILE\n",
            "                        Translate the input file\n",
            "  -m SEARCH_METHOD, --search_method SEARCH_METHOD\n",
            "                        Turjuman translation search method should be one of\n",
            "                        the follows ['greedy', 'beam', 'sampling'], default\n",
            "                        value is beam search\n",
            "  -s SEQ_LENGTH, --seq_length SEQ_LENGTH\n",
            "                        The maximum sequence length value, default vlaue is\n",
            "                        512\n",
            "  -o MAX_OUTPUTS, --max_outputs MAX_OUTPUTS\n",
            "                        The maxmuim of the output tanslations, default vlaue\n",
            "                        is 1\n",
            "  -b NUM_BEAMS, --num_beams NUM_BEAMS\n",
            "                        Number of beams, default vlaue is 1\n",
            "  -n NO_REPEAT_NGRAM_SIZE, --no_repeat_ngram_size NO_REPEAT_NGRAM_SIZE\n",
            "                        Number of n-gram that doesn't appears twice, default\n",
            "                        vlaue is 2\n",
            "  -k TOP_K, --top_k TOP_K\n",
            "                        Sample from top K likely next words instead of all\n",
            "                        words, default vlaue is 50\n",
            "  -p TOP_P, --top_p TOP_P\n",
            "                        Sample from the smallest set whose cumulative\n",
            "                        probability mass exceeds p for next words, default\n",
            "                        vlaue is 0.95\n",
            "  -c CACHE_DIR, --cache_dir CACHE_DIR\n",
            "                        The cache directory path, default vlaue is\n",
            "                        turjuman_cache directory\n",
            "  -l LOGGING_FILE, --logging_file LOGGING_FILE\n",
            "                        The logging file path, default vlaue is\n",
            "                        turjuman_translate_cli.log\n"
          ]
        }
      ]
    },
    {
      "cell_type": "markdown",
      "source": [
        "## (2) Translate using beam search (default)\n",
        "- **Beam search** is the *default* generation method on Turjuman\n",
        "- Beam search default setting:\n",
        "  - **-s** or **--seq_length**: The maximum sequence length value, *default vlaue is 512*\n",
        "  - **-o** or **--max_outputs**: The maxmuim of the output tanslations (*default vlaue is 1*)\n",
        "  - **-b** or **--num_beams NUM_BEAMS**: Number of beams (*default vlaue is 1*)\n",
        "  - **-n** or **--no_repeat_ngram_size**: Number of n-gram that doesn't appears twice (*default vlaue is 2*)"
      ],
      "metadata": {
        "id": "9Vmrkr9azIXZ"
      }
    },
    {
      "cell_type": "code",
      "source": [
        " # Beam search is the default generation method on Turjuman\n",
        " !turjuman_translate --text \"This has got to be one of the best stores in the world !\""
      ],
      "metadata": {
        "id": "J5mTVnmey1ZF",
        "outputId": "24c83db6-50d1-48b6-ade8-78bc2f425f18",
        "colab": {
          "base_uri": "https://localhost:8080/"
        }
      },
      "execution_count": null,
      "outputs": [
        {
          "output_type": "stream",
          "name": "stdout",
          "text": [
            "2022-05-13 00:32:00 | INFO | turjuman.translate_cli | Turjuman Translate Command Line Interface\n",
            "2022-05-13 00:32:00 | INFO | turjuman.translate_cli | Translate from input sentence\n",
            "2022-05-13 00:32:00 | INFO | turjuman.translate_cli | Loading model from UBC-NLP/turjuman\n",
            "2022-05-13 00:32:10 | INFO | turjuman.translate_cli | Using beam search\n",
            "source: This has got to be one of the best stores in the world !\n",
            "target: لقد أصبح هذا واحد من أفضل المتاجر في العالم!\n"
          ]
        }
      ]
    },
    {
      "cell_type": "markdown",
      "source": [
        "## (3) Translate using greedy search\n",
        "- Greedy search default setting:\n",
        "  - **-s** or **--seq_length**: The maximum sequence length value, *default vlaue is 512*"
      ],
      "metadata": {
        "id": "IxXNAdmEGApC"
      }
    },
    {
      "cell_type": "code",
      "source": [
        "!turjuman_translate --search_method greedy --text \"This has got to be one of the best stores in the world !\""
      ],
      "metadata": {
        "colab": {
          "base_uri": "https://localhost:8080/"
        },
        "id": "Ilx8hd44CXYS",
        "outputId": "f4a4d8b7-db82-4ed5-f96b-2a7bf4ce0bf4"
      },
      "execution_count": null,
      "outputs": [
        {
          "output_type": "stream",
          "name": "stdout",
          "text": [
            "2022-05-13 00:32:17 | INFO | turjuman.translate_cli | Turjuman Translate Command Line Interface\n",
            "2022-05-13 00:32:17 | INFO | turjuman.translate_cli | Translate from input sentence\n",
            "2022-05-13 00:32:17 | INFO | turjuman.translate_cli | Loading model from UBC-NLP/turjuman\n",
            "2022-05-13 00:32:22 | INFO | turjuman.translate_cli | Using greedy search\n",
            "source: This has got to be one of the best stores in the world !\n",
            "target: هذا كان من أفضل المتاجر في العالم!\n"
          ]
        }
      ]
    },
    {
      "cell_type": "markdown",
      "source": [
        "## (4) Translate using sampling search\n",
        "- Sampling search default setting:\n",
        "  - **-s** or **--seq_length**: The maximum sequence length value, *default vlaue is 512*\n",
        "  - **-o** or **--max_outputs**: The maxmuim of the output tanslations (*default vlaue is 1*)\n",
        "  - **-k** or **--top_k**: Sample from top K likely next words instead of all words (*default vlaue is 50*)\n",
        "  - **-p** or **--top_p**: Sample from the smallest set whose cumulative probability mass exceeds p for next words (*default vlaue is 0.95*)"
      ],
      "metadata": {
        "id": "cNDGxEorGcM5"
      }
    },
    {
      "cell_type": "code",
      "source": [
        "!turjuman_translate --search_method sampling --text \"This has got to be one of the best stores in the world !\""
      ],
      "metadata": {
        "colab": {
          "base_uri": "https://localhost:8080/"
        },
        "id": "xvW56rEiCgnf",
        "outputId": "2b85984b-82a0-4a0d-c923-055300a6afe7"
      },
      "execution_count": null,
      "outputs": [
        {
          "output_type": "stream",
          "name": "stdout",
          "text": [
            "2022-05-13 00:32:28 | INFO | turjuman.translate_cli | Turjuman Translate Command Line Interface\n",
            "2022-05-13 00:32:28 | INFO | turjuman.translate_cli | Translate from input sentence\n",
            "2022-05-13 00:32:28 | INFO | turjuman.translate_cli | Loading model from UBC-NLP/turjuman\n",
            "2022-05-13 00:32:33 | INFO | turjuman.translate_cli | Using sampling search\n",
            "source: This has got to be one of the best stores in the world !\n",
            "target: وكان هذا من بين أفضل المحال في العالم\n"
          ]
        }
      ]
    },
    {
      "cell_type": "markdown",
      "source": [
        "## (5) Read and translate text from file\n",
        "- **-f** or **--input_file**: import the text from file. The translation will saved on the JSON format file"
      ],
      "metadata": {
        "id": "sTGSrBa9JWdL"
      }
    },
    {
      "cell_type": "code",
      "source": [
        "!wget https://raw.githubusercontent.com/UBC-NLP/turjuman/main/examples/samples.txt"
      ],
      "metadata": {
        "colab": {
          "base_uri": "https://localhost:8080/"
        },
        "id": "JJ_-w_y8JyGt",
        "outputId": "8fdb0a46-cbc0-48d1-de38-705d9588a6c9"
      },
      "execution_count": 3,
      "outputs": [
        {
          "output_type": "stream",
          "name": "stdout",
          "text": [
            "--2022-05-13 00:38:11--  https://raw.githubusercontent.com/UBC-NLP/turjuman/main/examples/samples.txt\n",
            "Resolving raw.githubusercontent.com (raw.githubusercontent.com)... 185.199.108.133, 185.199.111.133, 185.199.109.133, ...\n",
            "Connecting to raw.githubusercontent.com (raw.githubusercontent.com)|185.199.108.133|:443... connected.\n",
            "HTTP request sent, awaiting response... 200 OK\n",
            "Length: 278 [text/plain]\n",
            "Saving to: ‘samples.txt’\n",
            "\n",
            "samples.txt         100%[===================>]     278  --.-KB/s    in 0s      \n",
            "\n",
            "2022-05-13 00:38:11 (8.84 MB/s) - ‘samples.txt’ saved [278/278]\n",
            "\n"
          ]
        }
      ]
    },
    {
      "cell_type": "code",
      "source": [
        " # translate sentences that imported from file using default Beam search\n",
        " !turjuman_translate --input_file samples.txt"
      ],
      "metadata": {
        "colab": {
          "base_uri": "https://localhost:8080/"
        },
        "id": "S0TI6W24HGk9",
        "outputId": "050dd57d-f233-4b50-e658-bedda404b16c"
      },
      "execution_count": 6,
      "outputs": [
        {
          "output_type": "stream",
          "name": "stdout",
          "text": [
            "2022-05-13 00:39:33 | INFO | turjuman.translate_cli | Turjuman Translate Command Line Interface\n",
            "2022-05-13 00:39:33 | INFO | turjuman.translate_cli | Translate from input file samples.txt\n",
            "2022-05-13 00:39:33 | INFO | turjuman.translate_cli | Loading model from UBC-NLP/turjuman\n",
            "2022-05-13 00:39:40 | INFO | turjuman.translate_cli | Using beam search\n",
            "{'source': ['This has got to be one of the best stores in the world !', 'C’ ́etait un travail rapide, propre et de qualit ́e. pr ́evoyez de revenir.', 'direk burası berbat.', 'Uma estrela, eu nunca lidei com pessoas t ̃ao insistentes, rudes e manipuladoras.', '날씨가 좋은데 산에 가자.'], 'target': ['لقد أصبح هذا واحد من أفضل المتاجر في العالم!', 'كان هناك عمل سريع ، نظيف ونوعي.', 'تَركَبُ مِن قِبل ', 'نجم واحد ، لم أحب أبدا أناسا مُصرين ووقحين', 'يُمكنك أن تُخبرنا كيف نُصبح مُ']}\n",
            "2022-05-13 00:39:50 | INFO | turjuman.translate_cli | The translation are saved on samples_Turjuman_translate.json\n"
          ]
        }
      ]
    },
    {
      "cell_type": "code",
      "source": [
        "#read the output file\n",
        "import pandas as pd\n",
        "pd.set_option('display.max_columns', None)  \n",
        "pd.set_option('display.max_colwidth', None)\n",
        "df = pd.read_json(\"samples_Turjuman_translate.json\", orient='records', lines=True)\n",
        "df"
      ],
      "metadata": {
        "id": "eqwIswDDKjeB",
        "colab": {
          "base_uri": "https://localhost:8080/",
          "height": 206
        },
        "outputId": "1d924a13-14c3-4970-f249-682ea1ad8a87"
      },
      "execution_count": 7,
      "outputs": [
        {
          "output_type": "execute_result",
          "data": {
            "text/plain": [
              "                                                                              source  \\\n",
              "0                           This has got to be one of the best stores in the world !   \n",
              "1        C’ ́etait un travail rapide, propre et de qualit ́e. pr ́evoyez de revenir.   \n",
              "2                                                               direk burası berbat.   \n",
              "3  Uma estrela, eu nunca lidei com pessoas t ̃ao insistentes, rudes e manipuladoras.   \n",
              "4                                                                     날씨가 좋은데 산에 가자.   \n",
              "\n",
              "                                         target  \n",
              "0  لقد أصبح هذا واحد من أفضل المتاجر في العالم!  \n",
              "1               كان هناك عمل سريع ، نظيف ونوعي.  \n",
              "2                             تَركَبُ مِن قِبل   \n",
              "3    نجم واحد ، لم أحب أبدا أناسا مُصرين ووقحين  \n",
              "4                يُمكنك أن تُخبرنا كيف نُصبح مُ  "
            ],
            "text/html": [
              "\n",
              "  <div id=\"df-7448050f-50c7-4c04-85a4-dcc8444d3002\">\n",
              "    <div class=\"colab-df-container\">\n",
              "      <div>\n",
              "<style scoped>\n",
              "    .dataframe tbody tr th:only-of-type {\n",
              "        vertical-align: middle;\n",
              "    }\n",
              "\n",
              "    .dataframe tbody tr th {\n",
              "        vertical-align: top;\n",
              "    }\n",
              "\n",
              "    .dataframe thead th {\n",
              "        text-align: right;\n",
              "    }\n",
              "</style>\n",
              "<table border=\"1\" class=\"dataframe\">\n",
              "  <thead>\n",
              "    <tr style=\"text-align: right;\">\n",
              "      <th></th>\n",
              "      <th>source</th>\n",
              "      <th>target</th>\n",
              "    </tr>\n",
              "  </thead>\n",
              "  <tbody>\n",
              "    <tr>\n",
              "      <th>0</th>\n",
              "      <td>This has got to be one of the best stores in the world !</td>\n",
              "      <td>لقد أصبح هذا واحد من أفضل المتاجر في العالم!</td>\n",
              "    </tr>\n",
              "    <tr>\n",
              "      <th>1</th>\n",
              "      <td>C’ ́etait un travail rapide, propre et de qualit ́e. pr ́evoyez de revenir.</td>\n",
              "      <td>كان هناك عمل سريع ، نظيف ونوعي.</td>\n",
              "    </tr>\n",
              "    <tr>\n",
              "      <th>2</th>\n",
              "      <td>direk burası berbat.</td>\n",
              "      <td>تَركَبُ مِن قِبل</td>\n",
              "    </tr>\n",
              "    <tr>\n",
              "      <th>3</th>\n",
              "      <td>Uma estrela, eu nunca lidei com pessoas t ̃ao insistentes, rudes e manipuladoras.</td>\n",
              "      <td>نجم واحد ، لم أحب أبدا أناسا مُصرين ووقحين</td>\n",
              "    </tr>\n",
              "    <tr>\n",
              "      <th>4</th>\n",
              "      <td>날씨가 좋은데 산에 가자.</td>\n",
              "      <td>يُمكنك أن تُخبرنا كيف نُصبح مُ</td>\n",
              "    </tr>\n",
              "  </tbody>\n",
              "</table>\n",
              "</div>\n",
              "      <button class=\"colab-df-convert\" onclick=\"convertToInteractive('df-7448050f-50c7-4c04-85a4-dcc8444d3002')\"\n",
              "              title=\"Convert this dataframe to an interactive table.\"\n",
              "              style=\"display:none;\">\n",
              "        \n",
              "  <svg xmlns=\"http://www.w3.org/2000/svg\" height=\"24px\"viewBox=\"0 0 24 24\"\n",
              "       width=\"24px\">\n",
              "    <path d=\"M0 0h24v24H0V0z\" fill=\"none\"/>\n",
              "    <path d=\"M18.56 5.44l.94 2.06.94-2.06 2.06-.94-2.06-.94-.94-2.06-.94 2.06-2.06.94zm-11 1L8.5 8.5l.94-2.06 2.06-.94-2.06-.94L8.5 2.5l-.94 2.06-2.06.94zm10 10l.94 2.06.94-2.06 2.06-.94-2.06-.94-.94-2.06-.94 2.06-2.06.94z\"/><path d=\"M17.41 7.96l-1.37-1.37c-.4-.4-.92-.59-1.43-.59-.52 0-1.04.2-1.43.59L10.3 9.45l-7.72 7.72c-.78.78-.78 2.05 0 2.83L4 21.41c.39.39.9.59 1.41.59.51 0 1.02-.2 1.41-.59l7.78-7.78 2.81-2.81c.8-.78.8-2.07 0-2.86zM5.41 20L4 18.59l7.72-7.72 1.47 1.35L5.41 20z\"/>\n",
              "  </svg>\n",
              "      </button>\n",
              "      \n",
              "  <style>\n",
              "    .colab-df-container {\n",
              "      display:flex;\n",
              "      flex-wrap:wrap;\n",
              "      gap: 12px;\n",
              "    }\n",
              "\n",
              "    .colab-df-convert {\n",
              "      background-color: #E8F0FE;\n",
              "      border: none;\n",
              "      border-radius: 50%;\n",
              "      cursor: pointer;\n",
              "      display: none;\n",
              "      fill: #1967D2;\n",
              "      height: 32px;\n",
              "      padding: 0 0 0 0;\n",
              "      width: 32px;\n",
              "    }\n",
              "\n",
              "    .colab-df-convert:hover {\n",
              "      background-color: #E2EBFA;\n",
              "      box-shadow: 0px 1px 2px rgba(60, 64, 67, 0.3), 0px 1px 3px 1px rgba(60, 64, 67, 0.15);\n",
              "      fill: #174EA6;\n",
              "    }\n",
              "\n",
              "    [theme=dark] .colab-df-convert {\n",
              "      background-color: #3B4455;\n",
              "      fill: #D2E3FC;\n",
              "    }\n",
              "\n",
              "    [theme=dark] .colab-df-convert:hover {\n",
              "      background-color: #434B5C;\n",
              "      box-shadow: 0px 1px 3px 1px rgba(0, 0, 0, 0.15);\n",
              "      filter: drop-shadow(0px 1px 2px rgba(0, 0, 0, 0.3));\n",
              "      fill: #FFFFFF;\n",
              "    }\n",
              "  </style>\n",
              "\n",
              "      <script>\n",
              "        const buttonEl =\n",
              "          document.querySelector('#df-7448050f-50c7-4c04-85a4-dcc8444d3002 button.colab-df-convert');\n",
              "        buttonEl.style.display =\n",
              "          google.colab.kernel.accessAllowed ? 'block' : 'none';\n",
              "\n",
              "        async function convertToInteractive(key) {\n",
              "          const element = document.querySelector('#df-7448050f-50c7-4c04-85a4-dcc8444d3002');\n",
              "          const dataTable =\n",
              "            await google.colab.kernel.invokeFunction('convertToInteractive',\n",
              "                                                     [key], {});\n",
              "          if (!dataTable) return;\n",
              "\n",
              "          const docLinkHtml = 'Like what you see? Visit the ' +\n",
              "            '<a target=\"_blank\" href=https://colab.research.google.com/notebooks/data_table.ipynb>data table notebook</a>'\n",
              "            + ' to learn more about interactive tables.';\n",
              "          element.innerHTML = '';\n",
              "          dataTable['output_type'] = 'display_data';\n",
              "          await google.colab.output.renderOutput(dataTable, element);\n",
              "          const docLink = document.createElement('div');\n",
              "          docLink.innerHTML = docLinkHtml;\n",
              "          element.appendChild(docLink);\n",
              "        }\n",
              "      </script>\n",
              "    </div>\n",
              "  </div>\n",
              "  "
            ]
          },
          "metadata": {},
          "execution_count": 7
        }
      ]
    },
    {
      "cell_type": "code",
      "source": [
        " # translate sentences that imported from file usinf default Beam search\n",
        " !turjuman_translate --input_file samples.txt --max_outputs 3"
      ],
      "metadata": {
        "id": "F9DuSxLuKpwz",
        "colab": {
          "base_uri": "https://localhost:8080/"
        },
        "outputId": "c2f70557-96fb-444c-e880-b27c96952380"
      },
      "execution_count": 8,
      "outputs": [
        {
          "output_type": "stream",
          "name": "stdout",
          "text": [
            "2022-05-13 00:40:18 | INFO | turjuman.translate_cli | Turjuman Translate Command Line Interface\n",
            "2022-05-13 00:40:18 | INFO | turjuman.translate_cli | Translate from input file samples.txt\n",
            "2022-05-13 00:40:18 | INFO | turjuman.translate_cli | Loading model from UBC-NLP/turjuman\n",
            "2022-05-13 00:40:26 | INFO | turjuman.translate_cli | Using beam search\n",
            "{'source': ['This has got to be one of the best stores in the world !', 'C’ ́etait un travail rapide, propre et de qualit ́e. pr ́evoyez de revenir.', 'direk burası berbat.', 'Uma estrela, eu nunca lidei com pessoas t ̃ao insistentes, rudes e manipuladoras.', '날씨가 좋은데 산에 가자.'], 'target': [['لقد أصبح هذا واحد من أفضل المتاجر في العالم!', 'لقد أصبح هذا واحدا من أفضل المتاجر في العالم!', 'لقد أصبح هذا من أفضل المتاجر في العالم!'], ['كان هناك عمل سريع ، نظيف ونوعي.', 'كان هناك عمل سريع ، نظيف ومن نوع ما.', 'كان هناك عمل سريع ، نظيف وجيد.'], ['تَركَبُ مِن قِبل ', 'تَحمَلُ مِن قِبل ', 'تَحمَلُهُ مِن قِ'], ['نجم واحد ، لم أحب أبدا أناسا مُصرين ووقحين', 'نجم واحد ، لم أحب أبدا أناسا مُصرّين ومُ', 'نجم واحد ، لم أحب أبدا أناسا مُصرّين ووقح'], ['يُمكنك أن تُخبرنا كيف نُصبح مُ', 'يُمكنك أن تُخبرنا عن هذا.', 'يُمكن أن تُستخدم كأدوات.']]}\n",
            "2022-05-13 00:40:34 | INFO | turjuman.translate_cli | The translation are saved on samples_Turjuman_translate.json\n"
          ]
        }
      ]
    },
    {
      "cell_type": "code",
      "source": [
        "df = pd.read_json(\"samples_Turjuman_translate.json\", orient='records', lines=True)\n",
        "df"
      ],
      "metadata": {
        "colab": {
          "base_uri": "https://localhost:8080/",
          "height": 206
        },
        "id": "aza_GVRt2-r_",
        "outputId": "af0b9a22-3627-4edd-be35-f734158ae670"
      },
      "execution_count": 9,
      "outputs": [
        {
          "output_type": "execute_result",
          "data": {
            "text/plain": [
              "                                                                              source  \\\n",
              "0                           This has got to be one of the best stores in the world !   \n",
              "1        C’ ́etait un travail rapide, propre et de qualit ́e. pr ́evoyez de revenir.   \n",
              "2                                                               direk burası berbat.   \n",
              "3  Uma estrela, eu nunca lidei com pessoas t ̃ao insistentes, rudes e manipuladoras.   \n",
              "4                                                                     날씨가 좋은데 산에 가자.   \n",
              "\n",
              "                                                                                                                                   target  \n",
              "0  [لقد أصبح هذا واحد من أفضل المتاجر في العالم!, لقد أصبح هذا واحدا من أفضل المتاجر في العالم!, لقد أصبح هذا من أفضل المتاجر في العالم!]  \n",
              "1                                 [كان هناك عمل سريع ، نظيف ونوعي., كان هناك عمل سريع ، نظيف ومن نوع ما., كان هناك عمل سريع ، نظيف وجيد.]  \n",
              "2                                                                                [تَركَبُ مِن قِبل , تَحمَلُ مِن قِبل , تَحمَلُهُ مِن قِ]  \n",
              "3       [نجم واحد ، لم أحب أبدا أناسا مُصرين ووقحين, نجم واحد ، لم أحب أبدا أناسا مُصرّين ومُ, نجم واحد ، لم أحب أبدا أناسا مُصرّين ووقح]  \n",
              "4                                                   [يُمكنك أن تُخبرنا كيف نُصبح مُ, يُمكنك أن تُخبرنا عن هذا., يُمكن أن تُستخدم كأدوات.]  "
            ],
            "text/html": [
              "\n",
              "  <div id=\"df-2e0d3a8b-49bf-4dd5-bc40-9ce80dd5b08f\">\n",
              "    <div class=\"colab-df-container\">\n",
              "      <div>\n",
              "<style scoped>\n",
              "    .dataframe tbody tr th:only-of-type {\n",
              "        vertical-align: middle;\n",
              "    }\n",
              "\n",
              "    .dataframe tbody tr th {\n",
              "        vertical-align: top;\n",
              "    }\n",
              "\n",
              "    .dataframe thead th {\n",
              "        text-align: right;\n",
              "    }\n",
              "</style>\n",
              "<table border=\"1\" class=\"dataframe\">\n",
              "  <thead>\n",
              "    <tr style=\"text-align: right;\">\n",
              "      <th></th>\n",
              "      <th>source</th>\n",
              "      <th>target</th>\n",
              "    </tr>\n",
              "  </thead>\n",
              "  <tbody>\n",
              "    <tr>\n",
              "      <th>0</th>\n",
              "      <td>This has got to be one of the best stores in the world !</td>\n",
              "      <td>[لقد أصبح هذا واحد من أفضل المتاجر في العالم!, لقد أصبح هذا واحدا من أفضل المتاجر في العالم!, لقد أصبح هذا من أفضل المتاجر في العالم!]</td>\n",
              "    </tr>\n",
              "    <tr>\n",
              "      <th>1</th>\n",
              "      <td>C’ ́etait un travail rapide, propre et de qualit ́e. pr ́evoyez de revenir.</td>\n",
              "      <td>[كان هناك عمل سريع ، نظيف ونوعي., كان هناك عمل سريع ، نظيف ومن نوع ما., كان هناك عمل سريع ، نظيف وجيد.]</td>\n",
              "    </tr>\n",
              "    <tr>\n",
              "      <th>2</th>\n",
              "      <td>direk burası berbat.</td>\n",
              "      <td>[تَركَبُ مِن قِبل , تَحمَلُ مِن قِبل , تَحمَلُهُ مِن قِ]</td>\n",
              "    </tr>\n",
              "    <tr>\n",
              "      <th>3</th>\n",
              "      <td>Uma estrela, eu nunca lidei com pessoas t ̃ao insistentes, rudes e manipuladoras.</td>\n",
              "      <td>[نجم واحد ، لم أحب أبدا أناسا مُصرين ووقحين, نجم واحد ، لم أحب أبدا أناسا مُصرّين ومُ, نجم واحد ، لم أحب أبدا أناسا مُصرّين ووقح]</td>\n",
              "    </tr>\n",
              "    <tr>\n",
              "      <th>4</th>\n",
              "      <td>날씨가 좋은데 산에 가자.</td>\n",
              "      <td>[يُمكنك أن تُخبرنا كيف نُصبح مُ, يُمكنك أن تُخبرنا عن هذا., يُمكن أن تُستخدم كأدوات.]</td>\n",
              "    </tr>\n",
              "  </tbody>\n",
              "</table>\n",
              "</div>\n",
              "      <button class=\"colab-df-convert\" onclick=\"convertToInteractive('df-2e0d3a8b-49bf-4dd5-bc40-9ce80dd5b08f')\"\n",
              "              title=\"Convert this dataframe to an interactive table.\"\n",
              "              style=\"display:none;\">\n",
              "        \n",
              "  <svg xmlns=\"http://www.w3.org/2000/svg\" height=\"24px\"viewBox=\"0 0 24 24\"\n",
              "       width=\"24px\">\n",
              "    <path d=\"M0 0h24v24H0V0z\" fill=\"none\"/>\n",
              "    <path d=\"M18.56 5.44l.94 2.06.94-2.06 2.06-.94-2.06-.94-.94-2.06-.94 2.06-2.06.94zm-11 1L8.5 8.5l.94-2.06 2.06-.94-2.06-.94L8.5 2.5l-.94 2.06-2.06.94zm10 10l.94 2.06.94-2.06 2.06-.94-2.06-.94-.94-2.06-.94 2.06-2.06.94z\"/><path d=\"M17.41 7.96l-1.37-1.37c-.4-.4-.92-.59-1.43-.59-.52 0-1.04.2-1.43.59L10.3 9.45l-7.72 7.72c-.78.78-.78 2.05 0 2.83L4 21.41c.39.39.9.59 1.41.59.51 0 1.02-.2 1.41-.59l7.78-7.78 2.81-2.81c.8-.78.8-2.07 0-2.86zM5.41 20L4 18.59l7.72-7.72 1.47 1.35L5.41 20z\"/>\n",
              "  </svg>\n",
              "      </button>\n",
              "      \n",
              "  <style>\n",
              "    .colab-df-container {\n",
              "      display:flex;\n",
              "      flex-wrap:wrap;\n",
              "      gap: 12px;\n",
              "    }\n",
              "\n",
              "    .colab-df-convert {\n",
              "      background-color: #E8F0FE;\n",
              "      border: none;\n",
              "      border-radius: 50%;\n",
              "      cursor: pointer;\n",
              "      display: none;\n",
              "      fill: #1967D2;\n",
              "      height: 32px;\n",
              "      padding: 0 0 0 0;\n",
              "      width: 32px;\n",
              "    }\n",
              "\n",
              "    .colab-df-convert:hover {\n",
              "      background-color: #E2EBFA;\n",
              "      box-shadow: 0px 1px 2px rgba(60, 64, 67, 0.3), 0px 1px 3px 1px rgba(60, 64, 67, 0.15);\n",
              "      fill: #174EA6;\n",
              "    }\n",
              "\n",
              "    [theme=dark] .colab-df-convert {\n",
              "      background-color: #3B4455;\n",
              "      fill: #D2E3FC;\n",
              "    }\n",
              "\n",
              "    [theme=dark] .colab-df-convert:hover {\n",
              "      background-color: #434B5C;\n",
              "      box-shadow: 0px 1px 3px 1px rgba(0, 0, 0, 0.15);\n",
              "      filter: drop-shadow(0px 1px 2px rgba(0, 0, 0, 0.3));\n",
              "      fill: #FFFFFF;\n",
              "    }\n",
              "  </style>\n",
              "\n",
              "      <script>\n",
              "        const buttonEl =\n",
              "          document.querySelector('#df-2e0d3a8b-49bf-4dd5-bc40-9ce80dd5b08f button.colab-df-convert');\n",
              "        buttonEl.style.display =\n",
              "          google.colab.kernel.accessAllowed ? 'block' : 'none';\n",
              "\n",
              "        async function convertToInteractive(key) {\n",
              "          const element = document.querySelector('#df-2e0d3a8b-49bf-4dd5-bc40-9ce80dd5b08f');\n",
              "          const dataTable =\n",
              "            await google.colab.kernel.invokeFunction('convertToInteractive',\n",
              "                                                     [key], {});\n",
              "          if (!dataTable) return;\n",
              "\n",
              "          const docLinkHtml = 'Like what you see? Visit the ' +\n",
              "            '<a target=\"_blank\" href=https://colab.research.google.com/notebooks/data_table.ipynb>data table notebook</a>'\n",
              "            + ' to learn more about interactive tables.';\n",
              "          element.innerHTML = '';\n",
              "          dataTable['output_type'] = 'display_data';\n",
              "          await google.colab.output.renderOutput(dataTable, element);\n",
              "          const docLink = document.createElement('div');\n",
              "          docLink.innerHTML = docLinkHtml;\n",
              "          element.appendChild(docLink);\n",
              "        }\n",
              "      </script>\n",
              "    </div>\n",
              "  </div>\n",
              "  "
            ]
          },
          "metadata": {},
          "execution_count": 9
        }
      ]
    },
    {
      "cell_type": "code",
      "source": [
        ""
      ],
      "metadata": {
        "id": "Um8O9lz73Ap9"
      },
      "execution_count": null,
      "outputs": []
    }
  ]
}