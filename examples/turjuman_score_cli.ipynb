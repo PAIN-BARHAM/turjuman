{
  "nbformat": 4,
  "nbformat_minor": 0,
  "metadata": {
    "colab": {
      "name": "turjuman_score_cli.ipynb",
      "provenance": [],
      "collapsed_sections": []
    },
    "kernelspec": {
      "name": "python3",
      "display_name": "Python 3"
    },
    "language_info": {
      "name": "python"
    }
  },
  "cells": [
    {
      "cell_type": "markdown",
      "source": [
        "#TURJUMAN\n",
        "TURJUMAN, a neural toolkit for translating from 20 languages into Modern Standard Arabic (MSA). TURJUMAN exploits the recently-introduced text-to-text Transformer [AraT5 model](https://github.com/UBC-NLP/araT5) (Nagoudi et al., 2022), endowing it with a powerful ability to decode into Arabic. The toolkit offers the possibility of employing a number of diverse decoding methods, making it suited for acquiring paraphrases for the MSA translations as an added value. To train TURJUMAN, we sample from publicly available parallel data employing a simple semantic similarity method to ensure data quality.\n",
        "\n",
        "---\n",
        "\n",
        "\n",
        "https://github.com/UBC-NLP/turjuman"
      ],
      "metadata": {
        "id": "3LKCHnJEtUkd"
      }
    },
    {
      "cell_type": "code",
      "execution_count": 1,
      "metadata": {
        "colab": {
          "base_uri": "https://localhost:8080/"
        },
        "id": "74TUcHKgtNIL",
        "outputId": "67c15e8b-d8ed-4cfb-8d4c-306e87918fde"
      },
      "outputs": [
        {
          "output_type": "stream",
          "name": "stdout",
          "text": [
            "\u001b[K     |████████████████████████████████| 1.2 MB 7.0 MB/s \n",
            "\u001b[K     |████████████████████████████████| 4.2 MB 43.7 MB/s \n",
            "\u001b[K     |████████████████████████████████| 90 kB 8.0 MB/s \n",
            "\u001b[K     |████████████████████████████████| 114 kB 49.4 MB/s \n",
            "\u001b[K     |████████████████████████████████| 342 kB 45.1 MB/s \n",
            "\u001b[K     |████████████████████████████████| 136 kB 45.2 MB/s \n",
            "\u001b[K     |████████████████████████████████| 212 kB 50.9 MB/s \n",
            "\u001b[K     |████████████████████████████████| 1.1 MB 34.1 MB/s \n",
            "\u001b[K     |████████████████████████████████| 84 kB 2.3 MB/s \n",
            "\u001b[K     |████████████████████████████████| 127 kB 66.1 MB/s \n",
            "\u001b[K     |████████████████████████████████| 271 kB 48.9 MB/s \n",
            "\u001b[K     |████████████████████████████████| 144 kB 43.9 MB/s \n",
            "\u001b[K     |████████████████████████████████| 94 kB 3.3 MB/s \n",
            "\u001b[K     |████████████████████████████████| 6.6 MB 44.1 MB/s \n",
            "\u001b[K     |████████████████████████████████| 596 kB 37.5 MB/s \n",
            "\u001b[?25h  Building wheel for turjuman (setup.py) ... \u001b[?25l\u001b[?25hdone\n",
            "\u001b[31mERROR: pip's dependency resolver does not currently take into account all the packages that are installed. This behaviour is the source of the following dependency conflicts.\n",
            "datascience 0.10.6 requires folium==0.2.1, but you have folium 0.8.3 which is incompatible.\u001b[0m\n"
          ]
        }
      ],
      "source": [
        "!pip install -U git+https://github.com/UBC-NLP/turjuman.git --q"
      ]
    },
    {
      "cell_type": "markdown",
      "source": [
        "##Turjuman Score Command Line Interface (CLI)\n",
        "\n",
        "Turjuman score cli computes the bleu score between two files:\n",
        "- **-h** or **--hyp_file**: The hypothesis (predicted/generated translation) file path.\n",
        "- **-g** or **--ref_file**: The references (gold translation) file path."
      ],
      "metadata": {
        "id": "f1ZRu680tpNr"
      }
    },
    {
      "cell_type": "code",
      "source": [
        "!turjuman_score -h"
      ],
      "metadata": {
        "colab": {
          "base_uri": "https://localhost:8080/"
        },
        "id": "tJcdc18itaCf",
        "outputId": "ff2d6f6f-ebcd-43de-ba81-a506d69ef616"
      },
      "execution_count": 2,
      "outputs": [
        {
          "output_type": "stream",
          "name": "stdout",
          "text": [
            "usage: turjuman_score [-h] -p HYP_FILE -g REF_FILE\n",
            "\n",
            "Turjuman Score CLI\n",
            "\n",
            "optional arguments:\n",
            "  -h, --help            show this help message and exit\n",
            "  -p HYP_FILE, --hyp_file HYP_FILE\n",
            "                        The hypothesis file path (predicted data)\n",
            "  -g REF_FILE, --ref_file REF_FILE\n",
            "                        The references file path (gold data)\n"
          ]
        }
      ]
    },
    {
      "cell_type": "markdown",
      "source": [
        "## Input files format\n",
        "- **hyp_file** is a line-based text file where each line represents one translated sentence.\n",
        "- **ref_file** is a line-based text file where each line represents the one gold sentence."
      ],
      "metadata": {
        "id": "5aVvy_ipvJ-e"
      }
    },
    {
      "cell_type": "markdown",
      "source": [
        "## Example"
      ],
      "metadata": {
        "id": "F4OLl68ewbg3"
      }
    },
    {
      "cell_type": "code",
      "source": [
        "!wget https://raw.githubusercontent.com/UBC-NLP/turjuman/main/examples/translated_targets.txt\n",
        "!wget https://raw.githubusercontent.com/UBC-NLP/turjuman/main/examples/gold_targets.txt"
      ],
      "metadata": {
        "id": "ao5ZxJrlvIhf",
        "colab": {
          "base_uri": "https://localhost:8080/"
        },
        "outputId": "b358c821-c977-4161-e270-79c91ff6524d"
      },
      "execution_count": 11,
      "outputs": [
        {
          "output_type": "stream",
          "name": "stdout",
          "text": [
            "--2022-05-18 00:14:46--  https://raw.githubusercontent.com/UBC-NLP/turjuman/main/examples/translated_targets.txt\n",
            "Resolving raw.githubusercontent.com (raw.githubusercontent.com)... 185.199.108.133, 185.199.109.133, 185.199.110.133, ...\n",
            "Connecting to raw.githubusercontent.com (raw.githubusercontent.com)|185.199.108.133|:443... connected.\n",
            "HTTP request sent, awaiting response... 200 OK\n",
            "Length: 574 [text/plain]\n",
            "Saving to: ‘translated_targets.txt’\n",
            "\n",
            "\rtranslated_targets.   0%[                    ]       0  --.-KB/s               \rtranslated_targets. 100%[===================>]     574  --.-KB/s    in 0s      \n",
            "\n",
            "2022-05-18 00:14:46 (22.4 MB/s) - ‘translated_targets.txt’ saved [574/574]\n",
            "\n",
            "--2022-05-18 00:14:46--  https://raw.githubusercontent.com/UBC-NLP/turjuman/main/examples/gold_targets.txt\n",
            "Resolving raw.githubusercontent.com (raw.githubusercontent.com)... 185.199.108.133, 185.199.109.133, 185.199.110.133, ...\n",
            "Connecting to raw.githubusercontent.com (raw.githubusercontent.com)|185.199.108.133|:443... connected.\n",
            "HTTP request sent, awaiting response... 200 OK\n",
            "Length: 556 [text/plain]\n",
            "Saving to: ‘gold_targets.txt’\n",
            "\n",
            "gold_targets.txt    100%[===================>]     556  --.-KB/s    in 0s      \n",
            "\n",
            "2022-05-18 00:14:46 (20.7 MB/s) - ‘gold_targets.txt’ saved [556/556]\n",
            "\n"
          ]
        }
      ]
    },
    {
      "cell_type": "code",
      "source": [
        "!turjuman_score -p translated_targets.txt -g gold_targets.txt"
      ],
      "metadata": {
        "id": "t1TfJpZStl91",
        "colab": {
          "base_uri": "https://localhost:8080/"
        },
        "outputId": "8b9f5522-437b-486d-df30-11c68cc11c9d"
      },
      "execution_count": 12,
      "outputs": [
        {
          "output_type": "stream",
          "name": "stdout",
          "text": [
            "2022-05-18 00:14:50 | INFO | turjuman.score_cli | Namespace(hyp_file='translated_targets.txt', ref_file='gold_targets.txt')\n",
            "{'bleu': 43.573826221233, 'hyp_file': 'translated_targets.txt', 'ref_file': 'gold_targets.txt'}\n"
          ]
        }
      ]
    },
    {
      "cell_type": "code",
      "source": [
        ""
      ],
      "metadata": {
        "id": "-7mbQgukglNa"
      },
      "execution_count": null,
      "outputs": []
    }
  ]
}