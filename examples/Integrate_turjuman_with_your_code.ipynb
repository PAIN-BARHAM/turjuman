{
  "cells": [
    {
      "cell_type": "markdown",
      "metadata": {
        "id": "vXEG1umFh-aY"
      },
      "source": [
        "#TURJUMAN\n",
        "Turjuman is a neural machine translation toolkit. It translates from 20 languages into Modern Standard Arabic (MSA). Turjuman is described in this paper: [**TURJUMAN: A Public Toolkit for Neural Arabic Machine Translation**](https://arxiv.org/abs/2206.03933). Turjuman exploits our [AraT5 model](https://github.com/UBC-NLP/araT5). This endows Turjuman with a powerful ability to decode into Arabic. The toolkit offers the possibility of employing a number of diverse decoding methods, making it suited for acquiring paraphrases for the MSA translations as an added value.\n",
        "\n",
        "---\n",
        "\n",
        "\n",
        "https://github.com/UBC-NLP/turjuman"
      ]
    },
    {
      "cell_type": "markdown",
      "metadata": {
        "id": "4reRbEghiBxt"
      },
      "source": [
        "## (1) Install Turjuman"
      ]
    },
    {
      "cell_type": "code",
      "execution_count": 52,
      "metadata": {
        "id": "GyUFV9b6FaJI"
      },
      "outputs": [],
      "source": [
        "!pip install git+https://github.com/UBC-NLP/turjuman.git --q"
      ]
    },
    {
      "cell_type": "markdown",
      "metadata": {
        "id": "yXqFDD05iL21"
      },
      "source": [
        "## (2) Initial turjuman object"
      ]
    },
    {
      "cell_type": "code",
      "execution_count": 53,
      "metadata": {
        "id": "ved3JKTrFfWl"
      },
      "outputs": [],
      "source": [
        "import logging\n",
        "import os\n",
        "from turjuman import turjuman"
      ]
    },
    {
      "cell_type": "code",
      "execution_count": 55,
      "metadata": {
        "id": "wP1miA5bQoqQ"
      },
      "outputs": [],
      "source": [
        "logging.basicConfig(\n",
        "    format=\"%(asctime)s | %(levelname)s | %(name)s | %(message)s\",\n",
        "    datefmt=\"%Y-%m-%d %H:%M:%S\",\n",
        "    level=os.environ.get(\"LOGLEVEL\", \"INFO\").upper(),\n",
        ")\n",
        "logger = logging.getLogger(\"turjuman.translate\")\n",
        "cache_dir=\"/content/mycache\"\n"
      ]
    },
    {
      "cell_type": "code",
      "execution_count": 56,
      "metadata": {
        "colab": {
          "base_uri": "https://localhost:8080/"
        },
        "id": "ldRl0S0KQbZz",
        "outputId": "1aecba59-0f87-4ec3-ff43-0cbc66096cab"
      },
      "outputs": [
        {
          "name": "stderr",
          "output_type": "stream",
          "text": [
            "2022-05-18 19:00:11 | INFO | turjuman.translate | Loading model from UBC-NLP/turjuman\n"
          ]
        }
      ],
      "source": [
        "torj = turjuman.turjuman(logger, cache_dir)"
      ]
    },
    {
      "cell_type": "markdown",
      "metadata": {
        "id": "vNywJ2dxis-b"
      },
      "source": [
        "## (2) Translate using beam search (default)\n",
        "\n",
        "> Indented block\n",
        "\n",
        "\n",
        "- **Beam search** is the *default* generation method on Turjuman\n",
        "- Beam search default setting:\n",
        "  - **seq_length**: The maximum sequence length value, *default value is 300*\n",
        "  - **max_outputs**: The maximum of the output tanslations (*default value is 1*)\n",
        "  - **num_beams NUM_BEAMS**: Number of beams (*default value is 1*)\n",
        "  - **no_repeat_ngram_size**: Number of n-gram that doesn't appears twice (*default value is 2*)"
      ]
    },
    {
      "cell_type": "code",
      "execution_count": 57,
      "metadata": {
        "colab": {
          "base_uri": "https://localhost:8080/"
        },
        "id": "S9B__5W3FiED",
        "outputId": "d57923c9-2cb6-451b-93d4-ad09bf1ed11b"
      },
      "outputs": [
        {
          "name": "stderr",
          "output_type": "stream",
          "text": [
            "2022-05-18 19:02:59 | INFO | turjuman.translate | Using beam search\n",
            "2022-05-18 19:03:02 | INFO | turjuman.translate | Extract outputs\n"
          ]
        },
        {
          "name": "stdout",
          "output_type": "stream",
          "text": [
            "{'source': 'As US reaches one million COVID deaths, how are Americans coping?', 'target': ['وبينما تصل الولايات المتحدة إلى مليون حالة وفاة من فيروس كوفيد-19 ، كيف يتعامل الأمريكيون مع ذلك ؟']}\n"
          ]
        }
      ],
      "source": [
        "beam_options = {\"search_method\":\"beam\", \"seq_length\": 300, \"num_beams\":5, \"no_repeat_ngram_size\":2, \"max_outputs\":1}\n",
        "target = torj.translate(\"As US reaches one million COVID deaths, how are Americans coping?\",**beam_options)\n",
        "print (target)"
      ]
    },
    {
      "cell_type": "markdown",
      "metadata": {
        "id": "cjW3m488jhIL"
      },
      "source": [
        "## (3) Translate using greedy search\n",
        "- Greedy search default setting:\n",
        "  - **seq_length**: The maximum sequence length value, *default vlaue is 300*"
      ]
    },
    {
      "cell_type": "code",
      "execution_count": 59,
      "metadata": {
        "colab": {
          "base_uri": "https://localhost:8080/"
        },
        "id": "xIoD4qLlYtU_",
        "outputId": "7214ef20-da4b-4f02-fee9-88c60abe520e"
      },
      "outputs": [
        {
          "name": "stderr",
          "output_type": "stream",
          "text": [
            "2022-05-18 19:04:37 | INFO | turjuman.translate | Using greedy search\n",
            "2022-05-18 19:04:39 | INFO | turjuman.translate | Extract outputs\n"
          ]
        },
        {
          "name": "stdout",
          "output_type": "stream",
          "text": [
            "{'source': 'As US reaches one million COVID deaths, how are Americans coping?', 'target': ['وبما أن الولايات المتحدة تصل إلى مليون حالة وفاة من فيروس كوفيد-19 ، كيف يمكن للولايات المتحدة أن تتصدى لهذا ؟']}\n"
          ]
        }
      ],
      "source": [
        "greedy_options = {\"search_method\":\"greedy\", \"seq_length\": 300}\n",
        "target = torj.translate(\"As US reaches one million COVID deaths, how are Americans coping?\",**greedy_options)\n",
        "print (target)"
      ]
    },
    {
      "cell_type": "markdown",
      "metadata": {
        "id": "TBfMhgiijuT5"
      },
      "source": [
        "## (4) Translate using sampling search\n",
        "- Sampling search default setting:\n",
        "  - **seq_length**: The maximum sequence length value, *default value is 300*\n",
        "  - **max_outputs**: The maxmuim of the output tanslations (*default value is 1*)\n",
        "  - **top_k**: Sample from top K likely next words instead of all words (*default value is 50*)\n",
        "  - **top_p**: Sample from the smallest set whose cumulative probability mass exceeds p for next words (*default value is 0.95*)"
      ]
    },
    {
      "cell_type": "code",
      "execution_count": 61,
      "metadata": {
        "colab": {
          "base_uri": "https://localhost:8080/"
        },
        "id": "MuBMQpYAFmGO",
        "outputId": "72959a52-d511-4031-e532-d804aba43ac7"
      },
      "outputs": [
        {
          "name": "stderr",
          "output_type": "stream",
          "text": [
            "2022-05-18 19:09:12 | INFO | turjuman.translate | Using sampling search\n",
            "2022-05-18 19:09:14 | INFO | turjuman.translate | Extract outputs\n"
          ]
        },
        {
          "name": "stdout",
          "output_type": "stream",
          "text": [
            "{'source': 'As US reaches one million COVID deaths, how are Americans coping?', 'target': ['وبما أن الولايات المتحدة تصل إلى مليون حالات وفاة بسبب كوفيد-19 ، كيف يعالج الأميركيون الأمر ؟']}\n"
          ]
        }
      ],
      "source": [
        "sampling_options = {\"search_method\":\"sampling\", \"seq_length\": 300, \"max_outputs\":1, \"top_p\":0.95, \"top_k\":50}\n",
        "target = torj.translate(\"As US reaches one million COVID deaths, how are Americans coping?\",**sampling_options)\n",
        "print (target)"
      ]
    },
    {
      "cell_type": "markdown",
      "metadata": {
        "id": "KiDAIcmkkEnx"
      },
      "source": [
        "## (5) Read and translate text from file\n",
        "- **input_file**: import the text from file. The translation will saved on the JSON format file\n",
        "- **batch_size**: The maximum number of source examples utilized in one iteration (default value is 25)\n",
        "- **gen_options**: Generation options "
      ]
    },
    {
      "cell_type": "code",
      "execution_count": 62,
      "metadata": {
        "colab": {
          "base_uri": "https://localhost:8080/"
        },
        "id": "LwmTQwGUk_Nn",
        "outputId": "7713908b-a898-4705-f491-8682f1526b2d"
      },
      "outputs": [
        {
          "name": "stdout",
          "output_type": "stream",
          "text": [
            "--2022-05-18 19:10:23--  https://raw.githubusercontent.com/UBC-NLP/turjuman/main/examples/samples.txt\n",
            "Resolving raw.githubusercontent.com (raw.githubusercontent.com)... 185.199.108.133, 185.199.109.133, 185.199.110.133, ...\n",
            "Connecting to raw.githubusercontent.com (raw.githubusercontent.com)|185.199.108.133|:443... connected.\n",
            "HTTP request sent, awaiting response... 200 OK\n",
            "Length: 732 [text/plain]\n",
            "Saving to: ‘samples.txt’\n",
            "\n",
            "samples.txt         100%[===================>]     732  --.-KB/s    in 0s      \n",
            "\n",
            "2022-05-18 19:10:23 (45.6 MB/s) - ‘samples.txt’ saved [732/732]\n",
            "\n"
          ]
        }
      ],
      "source": [
        "!wget https://raw.githubusercontent.com/UBC-NLP/turjuman/main/examples/samples.txt"
      ]
    },
    {
      "cell_type": "code",
      "execution_count": 65,
      "metadata": {
        "colab": {
          "base_uri": "https://localhost:8080/",
          "height": 272,
          "referenced_widgets": [
            "4b98959b77a940f4b742c690c7e19800",
            "db0083ded3d54644bc5d778d3185c442",
            "2f5a0da96d3e4e78b7ad73dfa9a676d7",
            "8f03731babbb4832a9215d1068689a10",
            "0241b6b0c594488990ea9860778d1c6b",
            "f9fca9c9a805428caed89d98a88c7b72",
            "1a8c52b4aef849f2946a072837f0377d",
            "752336148d9f45b0828ee76db1a9435b",
            "0ec57690f1794324bd8b7eb3bba21e4f",
            "5f44c9cb95954e198c8ca923e75af161",
            "d0d6a0b632fc45019b161151a79f4961",
            "de6cb443d02a43b4801279f00b1b2aaa",
            "d9825ea9de33431790df0711e8ac5a77",
            "6d46ef8a86be4310960522709be51101",
            "33dac95490fb4510bf68b49cb6a0e67c",
            "7c1d092665d14ffcadd44a518aa71051",
            "9bf3de640a7b4434a366d5d18dd753d2",
            "41db3e20324d4ea3837c543fb63882dd",
            "5bb9bada0a67446aad2fc64bbc921948",
            "bddd5a21e4c542448a184c7254dc628b",
            "37eaa0e7cb4c45af9166e52622c0ae19",
            "375239d80176401f813efb112d107e6b"
          ]
        },
        "id": "TC2ycVKAEsmA",
        "outputId": "169c629c-4239-4856-8967-c00e7c3c7bdc"
      },
      "outputs": [
        {
          "name": "stderr",
          "output_type": "stream",
          "text": [
            "2022-05-18 19:12:42 | INFO | turjuman.translate | Using beam search\n",
            "2022-05-18 19:12:42 | INFO | turjuman.translate | Loading source text from file (samples.txt)\n",
            "2022-05-18 19:12:43 | WARNING | datasets.builder | Using custom data configuration default-39adae9d0e6a3c86\n",
            "2022-05-18 19:12:43 | WARNING | datasets.builder | Reusing dataset text (/content/mycache/text/default-39adae9d0e6a3c86/0.0.0/4b86d314f7236db91f0a0f5cda32d4375445e64c5eda2692655dd99c2dac68e8)\n"
          ]
        },
        {
          "data": {
            "application/vnd.jupyter.widget-view+json": {
              "model_id": "4b98959b77a940f4b742c690c7e19800",
              "version_major": 2,
              "version_minor": 0
            },
            "text/plain": [
              "  0%|          | 0/1 [00:00<?, ?it/s]"
            ]
          },
          "metadata": {},
          "output_type": "display_data"
        },
        {
          "name": "stderr",
          "output_type": "stream",
          "text": [
            "2022-05-18 19:12:43 | INFO | turjuman.translate | Running tokenizer on source text\n"
          ]
        },
        {
          "data": {
            "application/vnd.jupyter.widget-view+json": {
              "model_id": "de6cb443d02a43b4801279f00b1b2aaa",
              "version_major": 2,
              "version_minor": 0
            },
            "text/plain": [
              "  0%|          | 0/1 [00:00<?, ?ba/s]"
            ]
          },
          "metadata": {},
          "output_type": "display_data"
        },
        {
          "name": "stderr",
          "output_type": "stream",
          "text": [
            "\n",
            "translate:   0%|          | 0/1 [00:00<?, ?it/s]\u001b[A2022-05-18 19:12:46 | INFO | turjuman.translate | Translating with batch_size 25 and #batches = 1\n",
            "\n",
            "translate: 100%|██████████| 1/1 [00:15<00:00, 15.35s/it]\n",
            "2022-05-18 19:13:01 | INFO | turjuman.translate | Extract outputs\n",
            "2022-05-18 19:13:01 | INFO | turjuman.translate | The translation are saved on samples_Turjuman_translate.json\n"
          ]
        }
      ],
      "source": [
        "gen_options = {\"search_method\":\"beam\", \"seq_length\": 300, \"num_beams\":5, \"no_repeat_ngram_size\":2, \"max_outputs\":1}\n",
        "torj.translate_from_file(\"samples.txt\", batch_size=25, **gen_options)"
      ]
    },
    {
      "cell_type": "code",
      "execution_count": 66,
      "metadata": {
        "colab": {
          "base_uri": "https://localhost:8080/",
          "height": 332
        },
        "id": "0pxAlVkrlFbT",
        "outputId": "a840e498-88fd-4643-b78c-73a2ec03609c"
      },
      "outputs": [
        {
          "data": {
            "text/html": [
              "\n",
              "  <div id=\"df-994e0837-4726-4251-b77f-fccec2eea53d\">\n",
              "    <div class=\"colab-df-container\">\n",
              "      <div>\n",
              "<style scoped>\n",
              "    .dataframe tbody tr th:only-of-type {\n",
              "        vertical-align: middle;\n",
              "    }\n",
              "\n",
              "    .dataframe tbody tr th {\n",
              "        vertical-align: top;\n",
              "    }\n",
              "\n",
              "    .dataframe thead th {\n",
              "        text-align: right;\n",
              "    }\n",
              "</style>\n",
              "<table border=\"1\" class=\"dataframe\">\n",
              "  <thead>\n",
              "    <tr style=\"text-align: right;\">\n",
              "      <th></th>\n",
              "      <th>source</th>\n",
              "      <th>target</th>\n",
              "    </tr>\n",
              "  </thead>\n",
              "  <tbody>\n",
              "    <tr>\n",
              "      <th>0</th>\n",
              "      <td>As US reaches one million COVID deaths, how are Americans coping?</td>\n",
              "      <td>وبينما تصل الولايات المتحدة إلى مليون حالة وفاة من فيروس كوفيد-19 ، كيف يتعامل الأمريكيون مع ذلك ؟</td>\n",
              "    </tr>\n",
              "    <tr>\n",
              "      <th>1</th>\n",
              "      <td>Here is what you need to know.</td>\n",
              "      <td>إليكم ما تحتاجون إلى معرفته.</td>\n",
              "    </tr>\n",
              "    <tr>\n",
              "      <th>2</th>\n",
              "      <td>Это список суверенных государств и зависимых территорий в Азии .</td>\n",
              "      <td>هذه قائمة الدول ذات السيادة والأقاليم التابعة في آسيا.</td>\n",
              "    </tr>\n",
              "    <tr>\n",
              "      <th>3</th>\n",
              "      <td>U-901 è un sottomarino tedesco .</td>\n",
              "      <td>يو-901 هي غواصة ألمانية.</td>\n",
              "    </tr>\n",
              "    <tr>\n",
              "      <th>4</th>\n",
              "      <td>Όλες οι πτήσεις προς τα Νησιά Ανταμάν και Νικομπάρ διεξάγονται στο Διεθνές Αεροδρόμιο Βιρ Σαβαρκάρ .</td>\n",
              "      <td>جميع الرحلات إلى جزر عدن و نيكبار تتم عبر مطار فير سافاركار الدولي.</td>\n",
              "    </tr>\n",
              "    <tr>\n",
              "      <th>5</th>\n",
              "      <td>Bir tür sözel olmayan iletişim biçimidir ve sosyal davranış üzerinde büyük etkisi olduğu düşünülmektedir .</td>\n",
              "      <td>وهو نوع من التواصل غير الرسمي ، ويعتقد أنه له تأثير كبير على السلوك الاجتماعي.</td>\n",
              "    </tr>\n",
              "    <tr>\n",
              "      <th>6</th>\n",
              "      <td>Jeg kan betale for din datters behandling .</td>\n",
              "      <td>يمكنني أن أدفع ثمن علاج ابنتك</td>\n",
              "    </tr>\n",
              "    <tr>\n",
              "      <th>7</th>\n",
              "      <td>Strefa przemysłowa dla inwestycji zagranicznych .</td>\n",
              "      <td>قطاع الصناعات التحويلية للاستثمار الأجنبي.</td>\n",
              "    </tr>\n",
              "    <tr>\n",
              "      <th>8</th>\n",
              "      <td>क्या तुम्हें यकीन है कि वही है ?</td>\n",
              "      <td>هل أنت واثق من ذلك ؟</td>\n",
              "    </tr>\n",
              "  </tbody>\n",
              "</table>\n",
              "</div>\n",
              "      <button class=\"colab-df-convert\" onclick=\"convertToInteractive('df-994e0837-4726-4251-b77f-fccec2eea53d')\"\n",
              "              title=\"Convert this dataframe to an interactive table.\"\n",
              "              style=\"display:none;\">\n",
              "        \n",
              "  <svg xmlns=\"http://www.w3.org/2000/svg\" height=\"24px\"viewBox=\"0 0 24 24\"\n",
              "       width=\"24px\">\n",
              "    <path d=\"M0 0h24v24H0V0z\" fill=\"none\"/>\n",
              "    <path d=\"M18.56 5.44l.94 2.06.94-2.06 2.06-.94-2.06-.94-.94-2.06-.94 2.06-2.06.94zm-11 1L8.5 8.5l.94-2.06 2.06-.94-2.06-.94L8.5 2.5l-.94 2.06-2.06.94zm10 10l.94 2.06.94-2.06 2.06-.94-2.06-.94-.94-2.06-.94 2.06-2.06.94z\"/><path d=\"M17.41 7.96l-1.37-1.37c-.4-.4-.92-.59-1.43-.59-.52 0-1.04.2-1.43.59L10.3 9.45l-7.72 7.72c-.78.78-.78 2.05 0 2.83L4 21.41c.39.39.9.59 1.41.59.51 0 1.02-.2 1.41-.59l7.78-7.78 2.81-2.81c.8-.78.8-2.07 0-2.86zM5.41 20L4 18.59l7.72-7.72 1.47 1.35L5.41 20z\"/>\n",
              "  </svg>\n",
              "      </button>\n",
              "      \n",
              "  <style>\n",
              "    .colab-df-container {\n",
              "      display:flex;\n",
              "      flex-wrap:wrap;\n",
              "      gap: 12px;\n",
              "    }\n",
              "\n",
              "    .colab-df-convert {\n",
              "      background-color: #E8F0FE;\n",
              "      border: none;\n",
              "      border-radius: 50%;\n",
              "      cursor: pointer;\n",
              "      display: none;\n",
              "      fill: #1967D2;\n",
              "      height: 32px;\n",
              "      padding: 0 0 0 0;\n",
              "      width: 32px;\n",
              "    }\n",
              "\n",
              "    .colab-df-convert:hover {\n",
              "      background-color: #E2EBFA;\n",
              "      box-shadow: 0px 1px 2px rgba(60, 64, 67, 0.3), 0px 1px 3px 1px rgba(60, 64, 67, 0.15);\n",
              "      fill: #174EA6;\n",
              "    }\n",
              "\n",
              "    [theme=dark] .colab-df-convert {\n",
              "      background-color: #3B4455;\n",
              "      fill: #D2E3FC;\n",
              "    }\n",
              "\n",
              "    [theme=dark] .colab-df-convert:hover {\n",
              "      background-color: #434B5C;\n",
              "      box-shadow: 0px 1px 3px 1px rgba(0, 0, 0, 0.15);\n",
              "      filter: drop-shadow(0px 1px 2px rgba(0, 0, 0, 0.3));\n",
              "      fill: #FFFFFF;\n",
              "    }\n",
              "  </style>\n",
              "\n",
              "      <script>\n",
              "        const buttonEl =\n",
              "          document.querySelector('#df-994e0837-4726-4251-b77f-fccec2eea53d button.colab-df-convert');\n",
              "        buttonEl.style.display =\n",
              "          google.colab.kernel.accessAllowed ? 'block' : 'none';\n",
              "\n",
              "        async function convertToInteractive(key) {\n",
              "          const element = document.querySelector('#df-994e0837-4726-4251-b77f-fccec2eea53d');\n",
              "          const dataTable =\n",
              "            await google.colab.kernel.invokeFunction('convertToInteractive',\n",
              "                                                     [key], {});\n",
              "          if (!dataTable) return;\n",
              "\n",
              "          const docLinkHtml = 'Like what you see? Visit the ' +\n",
              "            '<a target=\"_blank\" href=https://colab.research.google.com/notebooks/data_table.ipynb>data table notebook</a>'\n",
              "            + ' to learn more about interactive tables.';\n",
              "          element.innerHTML = '';\n",
              "          dataTable['output_type'] = 'display_data';\n",
              "          await google.colab.output.renderOutput(dataTable, element);\n",
              "          const docLink = document.createElement('div');\n",
              "          docLink.innerHTML = docLinkHtml;\n",
              "          element.appendChild(docLink);\n",
              "        }\n",
              "      </script>\n",
              "    </div>\n",
              "  </div>\n",
              "  "
            ],
            "text/plain": [
              "                                                                                                       source  \\\n",
              "0                                           As US reaches one million COVID deaths, how are Americans coping?   \n",
              "1                                                                              Here is what you need to know.   \n",
              "2                                            Это список суверенных государств и зависимых территорий в Азии .   \n",
              "3                                                                            U-901 è un sottomarino tedesco .   \n",
              "4        Όλες οι πτήσεις προς τα Νησιά Ανταμάν και Νικομπάρ διεξάγονται στο Διεθνές Αεροδρόμιο Βιρ Σαβαρκάρ .   \n",
              "5  Bir tür sözel olmayan iletişim biçimidir ve sosyal davranış üzerinde büyük etkisi olduğu düşünülmektedir .   \n",
              "6                                                                 Jeg kan betale for din datters behandling .   \n",
              "7                                                           Strefa przemysłowa dla inwestycji zagranicznych .   \n",
              "8                                                                            क्या तुम्हें यकीन है कि वही है ?   \n",
              "\n",
              "                                                                                               target  \n",
              "0  وبينما تصل الولايات المتحدة إلى مليون حالة وفاة من فيروس كوفيد-19 ، كيف يتعامل الأمريكيون مع ذلك ؟  \n",
              "1                                                                        إليكم ما تحتاجون إلى معرفته.  \n",
              "2                                              هذه قائمة الدول ذات السيادة والأقاليم التابعة في آسيا.  \n",
              "3                                                                            يو-901 هي غواصة ألمانية.  \n",
              "4                                 جميع الرحلات إلى جزر عدن و نيكبار تتم عبر مطار فير سافاركار الدولي.  \n",
              "5                      وهو نوع من التواصل غير الرسمي ، ويعتقد أنه له تأثير كبير على السلوك الاجتماعي.  \n",
              "6                                                                       يمكنني أن أدفع ثمن علاج ابنتك  \n",
              "7                                                          قطاع الصناعات التحويلية للاستثمار الأجنبي.  \n",
              "8                                                                                هل أنت واثق من ذلك ؟  "
            ]
          },
          "execution_count": 66,
          "metadata": {},
          "output_type": "execute_result"
        }
      ],
      "source": [
        "#read the output file\n",
        "import pandas as pd\n",
        "pd.set_option('display.max_columns', None)  \n",
        "pd.set_option('display.max_colwidth', None)\n",
        "df = pd.read_json(\"samples_Turjuman_translate.json\", orient='records', lines=True)\n",
        "df"
      ]
    },
    {
      "cell_type": "code",
      "execution_count": null,
      "metadata": {
        "id": "UZks8EnElsFj"
      },
      "outputs": [],
      "source": []
    }
  ],
  "metadata": {
    "accelerator": "GPU",
    "colab": {
      "collapsed_sections": [],
      "name": "Integrate_turjuman_with_your_code.ipynb",
      "provenance": []
    },
    "kernelspec": {
      "display_name": "Python 3",
      "name": "python3"
    },
    "language_info": {
      "name": "python"
    },
    "widgets": {
      "application/vnd.jupyter.widget-state+json": {
        "0241b6b0c594488990ea9860778d1c6b": {
          "model_module": "@jupyter-widgets/base",
          "model_module_version": "1.2.0",
          "model_name": "LayoutModel",
          "state": {
            "_model_module": "@jupyter-widgets/base",
            "_model_module_version": "1.2.0",
            "_model_name": "LayoutModel",
            "_view_count": null,
            "_view_module": "@jupyter-widgets/base",
            "_view_module_version": "1.2.0",
            "_view_name": "LayoutView",
            "align_content": null,
            "align_items": null,
            "align_self": null,
            "border": null,
            "bottom": null,
            "display": null,
            "flex": null,
            "flex_flow": null,
            "grid_area": null,
            "grid_auto_columns": null,
            "grid_auto_flow": null,
            "grid_auto_rows": null,
            "grid_column": null,
            "grid_gap": null,
            "grid_row": null,
            "grid_template_areas": null,
            "grid_template_columns": null,
            "grid_template_rows": null,
            "height": null,
            "justify_content": null,
            "justify_items": null,
            "left": null,
            "margin": null,
            "max_height": null,
            "max_width": null,
            "min_height": null,
            "min_width": null,
            "object_fit": null,
            "object_position": null,
            "order": null,
            "overflow": null,
            "overflow_x": null,
            "overflow_y": null,
            "padding": null,
            "right": null,
            "top": null,
            "visibility": null,
            "width": null
          }
        },
        "0ec57690f1794324bd8b7eb3bba21e4f": {
          "model_module": "@jupyter-widgets/controls",
          "model_module_version": "1.5.0",
          "model_name": "ProgressStyleModel",
          "state": {
            "_model_module": "@jupyter-widgets/controls",
            "_model_module_version": "1.5.0",
            "_model_name": "ProgressStyleModel",
            "_view_count": null,
            "_view_module": "@jupyter-widgets/base",
            "_view_module_version": "1.2.0",
            "_view_name": "StyleView",
            "bar_color": null,
            "description_width": ""
          }
        },
        "1a8c52b4aef849f2946a072837f0377d": {
          "model_module": "@jupyter-widgets/controls",
          "model_module_version": "1.5.0",
          "model_name": "DescriptionStyleModel",
          "state": {
            "_model_module": "@jupyter-widgets/controls",
            "_model_module_version": "1.5.0",
            "_model_name": "DescriptionStyleModel",
            "_view_count": null,
            "_view_module": "@jupyter-widgets/base",
            "_view_module_version": "1.2.0",
            "_view_name": "StyleView",
            "description_width": ""
          }
        },
        "2f5a0da96d3e4e78b7ad73dfa9a676d7": {
          "model_module": "@jupyter-widgets/controls",
          "model_module_version": "1.5.0",
          "model_name": "FloatProgressModel",
          "state": {
            "_dom_classes": [],
            "_model_module": "@jupyter-widgets/controls",
            "_model_module_version": "1.5.0",
            "_model_name": "FloatProgressModel",
            "_view_count": null,
            "_view_module": "@jupyter-widgets/controls",
            "_view_module_version": "1.5.0",
            "_view_name": "ProgressView",
            "bar_style": "success",
            "description": "",
            "description_tooltip": null,
            "layout": "IPY_MODEL_752336148d9f45b0828ee76db1a9435b",
            "max": 1,
            "min": 0,
            "orientation": "horizontal",
            "style": "IPY_MODEL_0ec57690f1794324bd8b7eb3bba21e4f",
            "value": 1
          }
        },
        "33dac95490fb4510bf68b49cb6a0e67c": {
          "model_module": "@jupyter-widgets/controls",
          "model_module_version": "1.5.0",
          "model_name": "HTMLModel",
          "state": {
            "_dom_classes": [],
            "_model_module": "@jupyter-widgets/controls",
            "_model_module_version": "1.5.0",
            "_model_name": "HTMLModel",
            "_view_count": null,
            "_view_module": "@jupyter-widgets/controls",
            "_view_module_version": "1.5.0",
            "_view_name": "HTMLView",
            "description": "",
            "description_tooltip": null,
            "layout": "IPY_MODEL_37eaa0e7cb4c45af9166e52622c0ae19",
            "placeholder": "​",
            "style": "IPY_MODEL_375239d80176401f813efb112d107e6b",
            "value": " 1/1 [00:00&lt;00:00, 30.94ba/s]"
          }
        },
        "375239d80176401f813efb112d107e6b": {
          "model_module": "@jupyter-widgets/controls",
          "model_module_version": "1.5.0",
          "model_name": "DescriptionStyleModel",
          "state": {
            "_model_module": "@jupyter-widgets/controls",
            "_model_module_version": "1.5.0",
            "_model_name": "DescriptionStyleModel",
            "_view_count": null,
            "_view_module": "@jupyter-widgets/base",
            "_view_module_version": "1.2.0",
            "_view_name": "StyleView",
            "description_width": ""
          }
        },
        "37eaa0e7cb4c45af9166e52622c0ae19": {
          "model_module": "@jupyter-widgets/base",
          "model_module_version": "1.2.0",
          "model_name": "LayoutModel",
          "state": {
            "_model_module": "@jupyter-widgets/base",
            "_model_module_version": "1.2.0",
            "_model_name": "LayoutModel",
            "_view_count": null,
            "_view_module": "@jupyter-widgets/base",
            "_view_module_version": "1.2.0",
            "_view_name": "LayoutView",
            "align_content": null,
            "align_items": null,
            "align_self": null,
            "border": null,
            "bottom": null,
            "display": null,
            "flex": null,
            "flex_flow": null,
            "grid_area": null,
            "grid_auto_columns": null,
            "grid_auto_flow": null,
            "grid_auto_rows": null,
            "grid_column": null,
            "grid_gap": null,
            "grid_row": null,
            "grid_template_areas": null,
            "grid_template_columns": null,
            "grid_template_rows": null,
            "height": null,
            "justify_content": null,
            "justify_items": null,
            "left": null,
            "margin": null,
            "max_height": null,
            "max_width": null,
            "min_height": null,
            "min_width": null,
            "object_fit": null,
            "object_position": null,
            "order": null,
            "overflow": null,
            "overflow_x": null,
            "overflow_y": null,
            "padding": null,
            "right": null,
            "top": null,
            "visibility": null,
            "width": null
          }
        },
        "41db3e20324d4ea3837c543fb63882dd": {
          "model_module": "@jupyter-widgets/controls",
          "model_module_version": "1.5.0",
          "model_name": "DescriptionStyleModel",
          "state": {
            "_model_module": "@jupyter-widgets/controls",
            "_model_module_version": "1.5.0",
            "_model_name": "DescriptionStyleModel",
            "_view_count": null,
            "_view_module": "@jupyter-widgets/base",
            "_view_module_version": "1.2.0",
            "_view_name": "StyleView",
            "description_width": ""
          }
        },
        "4b98959b77a940f4b742c690c7e19800": {
          "model_module": "@jupyter-widgets/controls",
          "model_module_version": "1.5.0",
          "model_name": "HBoxModel",
          "state": {
            "_dom_classes": [],
            "_model_module": "@jupyter-widgets/controls",
            "_model_module_version": "1.5.0",
            "_model_name": "HBoxModel",
            "_view_count": null,
            "_view_module": "@jupyter-widgets/controls",
            "_view_module_version": "1.5.0",
            "_view_name": "HBoxView",
            "box_style": "",
            "children": [
              "IPY_MODEL_db0083ded3d54644bc5d778d3185c442",
              "IPY_MODEL_2f5a0da96d3e4e78b7ad73dfa9a676d7",
              "IPY_MODEL_8f03731babbb4832a9215d1068689a10"
            ],
            "layout": "IPY_MODEL_0241b6b0c594488990ea9860778d1c6b"
          }
        },
        "5bb9bada0a67446aad2fc64bbc921948": {
          "model_module": "@jupyter-widgets/base",
          "model_module_version": "1.2.0",
          "model_name": "LayoutModel",
          "state": {
            "_model_module": "@jupyter-widgets/base",
            "_model_module_version": "1.2.0",
            "_model_name": "LayoutModel",
            "_view_count": null,
            "_view_module": "@jupyter-widgets/base",
            "_view_module_version": "1.2.0",
            "_view_name": "LayoutView",
            "align_content": null,
            "align_items": null,
            "align_self": null,
            "border": null,
            "bottom": null,
            "display": null,
            "flex": null,
            "flex_flow": null,
            "grid_area": null,
            "grid_auto_columns": null,
            "grid_auto_flow": null,
            "grid_auto_rows": null,
            "grid_column": null,
            "grid_gap": null,
            "grid_row": null,
            "grid_template_areas": null,
            "grid_template_columns": null,
            "grid_template_rows": null,
            "height": null,
            "justify_content": null,
            "justify_items": null,
            "left": null,
            "margin": null,
            "max_height": null,
            "max_width": null,
            "min_height": null,
            "min_width": null,
            "object_fit": null,
            "object_position": null,
            "order": null,
            "overflow": null,
            "overflow_x": null,
            "overflow_y": null,
            "padding": null,
            "right": null,
            "top": null,
            "visibility": null,
            "width": null
          }
        },
        "5f44c9cb95954e198c8ca923e75af161": {
          "model_module": "@jupyter-widgets/base",
          "model_module_version": "1.2.0",
          "model_name": "LayoutModel",
          "state": {
            "_model_module": "@jupyter-widgets/base",
            "_model_module_version": "1.2.0",
            "_model_name": "LayoutModel",
            "_view_count": null,
            "_view_module": "@jupyter-widgets/base",
            "_view_module_version": "1.2.0",
            "_view_name": "LayoutView",
            "align_content": null,
            "align_items": null,
            "align_self": null,
            "border": null,
            "bottom": null,
            "display": null,
            "flex": null,
            "flex_flow": null,
            "grid_area": null,
            "grid_auto_columns": null,
            "grid_auto_flow": null,
            "grid_auto_rows": null,
            "grid_column": null,
            "grid_gap": null,
            "grid_row": null,
            "grid_template_areas": null,
            "grid_template_columns": null,
            "grid_template_rows": null,
            "height": null,
            "justify_content": null,
            "justify_items": null,
            "left": null,
            "margin": null,
            "max_height": null,
            "max_width": null,
            "min_height": null,
            "min_width": null,
            "object_fit": null,
            "object_position": null,
            "order": null,
            "overflow": null,
            "overflow_x": null,
            "overflow_y": null,
            "padding": null,
            "right": null,
            "top": null,
            "visibility": null,
            "width": null
          }
        },
        "6d46ef8a86be4310960522709be51101": {
          "model_module": "@jupyter-widgets/controls",
          "model_module_version": "1.5.0",
          "model_name": "FloatProgressModel",
          "state": {
            "_dom_classes": [],
            "_model_module": "@jupyter-widgets/controls",
            "_model_module_version": "1.5.0",
            "_model_name": "FloatProgressModel",
            "_view_count": null,
            "_view_module": "@jupyter-widgets/controls",
            "_view_module_version": "1.5.0",
            "_view_name": "ProgressView",
            "bar_style": "success",
            "description": "",
            "description_tooltip": null,
            "layout": "IPY_MODEL_5bb9bada0a67446aad2fc64bbc921948",
            "max": 1,
            "min": 0,
            "orientation": "horizontal",
            "style": "IPY_MODEL_bddd5a21e4c542448a184c7254dc628b",
            "value": 1
          }
        },
        "752336148d9f45b0828ee76db1a9435b": {
          "model_module": "@jupyter-widgets/base",
          "model_module_version": "1.2.0",
          "model_name": "LayoutModel",
          "state": {
            "_model_module": "@jupyter-widgets/base",
            "_model_module_version": "1.2.0",
            "_model_name": "LayoutModel",
            "_view_count": null,
            "_view_module": "@jupyter-widgets/base",
            "_view_module_version": "1.2.0",
            "_view_name": "LayoutView",
            "align_content": null,
            "align_items": null,
            "align_self": null,
            "border": null,
            "bottom": null,
            "display": null,
            "flex": null,
            "flex_flow": null,
            "grid_area": null,
            "grid_auto_columns": null,
            "grid_auto_flow": null,
            "grid_auto_rows": null,
            "grid_column": null,
            "grid_gap": null,
            "grid_row": null,
            "grid_template_areas": null,
            "grid_template_columns": null,
            "grid_template_rows": null,
            "height": null,
            "justify_content": null,
            "justify_items": null,
            "left": null,
            "margin": null,
            "max_height": null,
            "max_width": null,
            "min_height": null,
            "min_width": null,
            "object_fit": null,
            "object_position": null,
            "order": null,
            "overflow": null,
            "overflow_x": null,
            "overflow_y": null,
            "padding": null,
            "right": null,
            "top": null,
            "visibility": null,
            "width": null
          }
        },
        "7c1d092665d14ffcadd44a518aa71051": {
          "model_module": "@jupyter-widgets/base",
          "model_module_version": "1.2.0",
          "model_name": "LayoutModel",
          "state": {
            "_model_module": "@jupyter-widgets/base",
            "_model_module_version": "1.2.0",
            "_model_name": "LayoutModel",
            "_view_count": null,
            "_view_module": "@jupyter-widgets/base",
            "_view_module_version": "1.2.0",
            "_view_name": "LayoutView",
            "align_content": null,
            "align_items": null,
            "align_self": null,
            "border": null,
            "bottom": null,
            "display": null,
            "flex": null,
            "flex_flow": null,
            "grid_area": null,
            "grid_auto_columns": null,
            "grid_auto_flow": null,
            "grid_auto_rows": null,
            "grid_column": null,
            "grid_gap": null,
            "grid_row": null,
            "grid_template_areas": null,
            "grid_template_columns": null,
            "grid_template_rows": null,
            "height": null,
            "justify_content": null,
            "justify_items": null,
            "left": null,
            "margin": null,
            "max_height": null,
            "max_width": null,
            "min_height": null,
            "min_width": null,
            "object_fit": null,
            "object_position": null,
            "order": null,
            "overflow": null,
            "overflow_x": null,
            "overflow_y": null,
            "padding": null,
            "right": null,
            "top": null,
            "visibility": null,
            "width": null
          }
        },
        "8f03731babbb4832a9215d1068689a10": {
          "model_module": "@jupyter-widgets/controls",
          "model_module_version": "1.5.0",
          "model_name": "HTMLModel",
          "state": {
            "_dom_classes": [],
            "_model_module": "@jupyter-widgets/controls",
            "_model_module_version": "1.5.0",
            "_model_name": "HTMLModel",
            "_view_count": null,
            "_view_module": "@jupyter-widgets/controls",
            "_view_module_version": "1.5.0",
            "_view_name": "HTMLView",
            "description": "",
            "description_tooltip": null,
            "layout": "IPY_MODEL_5f44c9cb95954e198c8ca923e75af161",
            "placeholder": "​",
            "style": "IPY_MODEL_d0d6a0b632fc45019b161151a79f4961",
            "value": " 1/1 [00:00&lt;00:00, 26.82it/s]"
          }
        },
        "9bf3de640a7b4434a366d5d18dd753d2": {
          "model_module": "@jupyter-widgets/base",
          "model_module_version": "1.2.0",
          "model_name": "LayoutModel",
          "state": {
            "_model_module": "@jupyter-widgets/base",
            "_model_module_version": "1.2.0",
            "_model_name": "LayoutModel",
            "_view_count": null,
            "_view_module": "@jupyter-widgets/base",
            "_view_module_version": "1.2.0",
            "_view_name": "LayoutView",
            "align_content": null,
            "align_items": null,
            "align_self": null,
            "border": null,
            "bottom": null,
            "display": null,
            "flex": null,
            "flex_flow": null,
            "grid_area": null,
            "grid_auto_columns": null,
            "grid_auto_flow": null,
            "grid_auto_rows": null,
            "grid_column": null,
            "grid_gap": null,
            "grid_row": null,
            "grid_template_areas": null,
            "grid_template_columns": null,
            "grid_template_rows": null,
            "height": null,
            "justify_content": null,
            "justify_items": null,
            "left": null,
            "margin": null,
            "max_height": null,
            "max_width": null,
            "min_height": null,
            "min_width": null,
            "object_fit": null,
            "object_position": null,
            "order": null,
            "overflow": null,
            "overflow_x": null,
            "overflow_y": null,
            "padding": null,
            "right": null,
            "top": null,
            "visibility": null,
            "width": null
          }
        },
        "bddd5a21e4c542448a184c7254dc628b": {
          "model_module": "@jupyter-widgets/controls",
          "model_module_version": "1.5.0",
          "model_name": "ProgressStyleModel",
          "state": {
            "_model_module": "@jupyter-widgets/controls",
            "_model_module_version": "1.5.0",
            "_model_name": "ProgressStyleModel",
            "_view_count": null,
            "_view_module": "@jupyter-widgets/base",
            "_view_module_version": "1.2.0",
            "_view_name": "StyleView",
            "bar_color": null,
            "description_width": ""
          }
        },
        "d0d6a0b632fc45019b161151a79f4961": {
          "model_module": "@jupyter-widgets/controls",
          "model_module_version": "1.5.0",
          "model_name": "DescriptionStyleModel",
          "state": {
            "_model_module": "@jupyter-widgets/controls",
            "_model_module_version": "1.5.0",
            "_model_name": "DescriptionStyleModel",
            "_view_count": null,
            "_view_module": "@jupyter-widgets/base",
            "_view_module_version": "1.2.0",
            "_view_name": "StyleView",
            "description_width": ""
          }
        },
        "d9825ea9de33431790df0711e8ac5a77": {
          "model_module": "@jupyter-widgets/controls",
          "model_module_version": "1.5.0",
          "model_name": "HTMLModel",
          "state": {
            "_dom_classes": [],
            "_model_module": "@jupyter-widgets/controls",
            "_model_module_version": "1.5.0",
            "_model_name": "HTMLModel",
            "_view_count": null,
            "_view_module": "@jupyter-widgets/controls",
            "_view_module_version": "1.5.0",
            "_view_name": "HTMLView",
            "description": "",
            "description_tooltip": null,
            "layout": "IPY_MODEL_9bf3de640a7b4434a366d5d18dd753d2",
            "placeholder": "​",
            "style": "IPY_MODEL_41db3e20324d4ea3837c543fb63882dd",
            "value": "100%"
          }
        },
        "db0083ded3d54644bc5d778d3185c442": {
          "model_module": "@jupyter-widgets/controls",
          "model_module_version": "1.5.0",
          "model_name": "HTMLModel",
          "state": {
            "_dom_classes": [],
            "_model_module": "@jupyter-widgets/controls",
            "_model_module_version": "1.5.0",
            "_model_name": "HTMLModel",
            "_view_count": null,
            "_view_module": "@jupyter-widgets/controls",
            "_view_module_version": "1.5.0",
            "_view_name": "HTMLView",
            "description": "",
            "description_tooltip": null,
            "layout": "IPY_MODEL_f9fca9c9a805428caed89d98a88c7b72",
            "placeholder": "​",
            "style": "IPY_MODEL_1a8c52b4aef849f2946a072837f0377d",
            "value": "100%"
          }
        },
        "de6cb443d02a43b4801279f00b1b2aaa": {
          "model_module": "@jupyter-widgets/controls",
          "model_module_version": "1.5.0",
          "model_name": "HBoxModel",
          "state": {
            "_dom_classes": [],
            "_model_module": "@jupyter-widgets/controls",
            "_model_module_version": "1.5.0",
            "_model_name": "HBoxModel",
            "_view_count": null,
            "_view_module": "@jupyter-widgets/controls",
            "_view_module_version": "1.5.0",
            "_view_name": "HBoxView",
            "box_style": "",
            "children": [
              "IPY_MODEL_d9825ea9de33431790df0711e8ac5a77",
              "IPY_MODEL_6d46ef8a86be4310960522709be51101",
              "IPY_MODEL_33dac95490fb4510bf68b49cb6a0e67c"
            ],
            "layout": "IPY_MODEL_7c1d092665d14ffcadd44a518aa71051"
          }
        },
        "f9fca9c9a805428caed89d98a88c7b72": {
          "model_module": "@jupyter-widgets/base",
          "model_module_version": "1.2.0",
          "model_name": "LayoutModel",
          "state": {
            "_model_module": "@jupyter-widgets/base",
            "_model_module_version": "1.2.0",
            "_model_name": "LayoutModel",
            "_view_count": null,
            "_view_module": "@jupyter-widgets/base",
            "_view_module_version": "1.2.0",
            "_view_name": "LayoutView",
            "align_content": null,
            "align_items": null,
            "align_self": null,
            "border": null,
            "bottom": null,
            "display": null,
            "flex": null,
            "flex_flow": null,
            "grid_area": null,
            "grid_auto_columns": null,
            "grid_auto_flow": null,
            "grid_auto_rows": null,
            "grid_column": null,
            "grid_gap": null,
            "grid_row": null,
            "grid_template_areas": null,
            "grid_template_columns": null,
            "grid_template_rows": null,
            "height": null,
            "justify_content": null,
            "justify_items": null,
            "left": null,
            "margin": null,
            "max_height": null,
            "max_width": null,
            "min_height": null,
            "min_width": null,
            "object_fit": null,
            "object_position": null,
            "order": null,
            "overflow": null,
            "overflow_x": null,
            "overflow_y": null,
            "padding": null,
            "right": null,
            "top": null,
            "visibility": null,
            "width": null
          }
        }
      }
    }
  },
  "nbformat": 4,
  "nbformat_minor": 0
}
